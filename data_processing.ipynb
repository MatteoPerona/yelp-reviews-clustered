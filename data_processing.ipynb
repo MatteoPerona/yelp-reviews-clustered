{
 "cells": [
  {
   "cell_type": "code",
   "execution_count": 1,
   "metadata": {},
   "outputs": [
    {
     "name": "stderr",
     "output_type": "stream",
     "text": [
      "[nltk_data] Downloading package punkt to\n",
      "[nltk_data]     /Users/matteowork/nltk_data...\n",
      "[nltk_data]   Package punkt is already up-to-date!\n",
      "[nltk_data] Downloading package stopwords to\n",
      "[nltk_data]     /Users/matteowork/nltk_data...\n",
      "[nltk_data]   Package stopwords is already up-to-date!\n"
     ]
    },
    {
     "data": {
      "text/plain": [
       "True"
      ]
     },
     "execution_count": 1,
     "metadata": {},
     "output_type": "execute_result"
    }
   ],
   "source": [
    "import numpy as np \n",
    "import pandas as pd\n",
    "import plotly.express as px\n",
    "pd.options.plotting.backend = 'plotly'\n",
    "\n",
    "import nltk\n",
    "nltk.download('punkt')\n",
    "from nltk.corpus import stopwords\n",
    "nltk.download('stopwords')"
   ]
  },
  {
   "cell_type": "markdown",
   "metadata": {},
   "source": [
    "# Cleaning"
   ]
  },
  {
   "cell_type": "code",
   "execution_count": 2,
   "metadata": {},
   "outputs": [],
   "source": [
    "reviews = pd.read_csv('filtered-reviews.csv')"
   ]
  },
  {
   "cell_type": "code",
   "execution_count": 3,
   "metadata": {},
   "outputs": [
    {
     "data": {
      "text/html": [
       "<div>\n",
       "<style scoped>\n",
       "    .dataframe tbody tr th:only-of-type {\n",
       "        vertical-align: middle;\n",
       "    }\n",
       "\n",
       "    .dataframe tbody tr th {\n",
       "        vertical-align: top;\n",
       "    }\n",
       "\n",
       "    .dataframe thead th {\n",
       "        text-align: right;\n",
       "    }\n",
       "</style>\n",
       "<table border=\"1\" class=\"dataframe\">\n",
       "  <thead>\n",
       "    <tr style=\"text-align: right;\">\n",
       "      <th></th>\n",
       "      <th>review_id</th>\n",
       "      <th>user_id</th>\n",
       "      <th>business_id</th>\n",
       "      <th>text</th>\n",
       "      <th>date</th>\n",
       "    </tr>\n",
       "  </thead>\n",
       "  <tbody>\n",
       "    <tr>\n",
       "      <th>count</th>\n",
       "      <td>327819</td>\n",
       "      <td>327819</td>\n",
       "      <td>327819</td>\n",
       "      <td>327819</td>\n",
       "      <td>327819</td>\n",
       "    </tr>\n",
       "    <tr>\n",
       "      <th>unique</th>\n",
       "      <td>327819</td>\n",
       "      <td>228555</td>\n",
       "      <td>237</td>\n",
       "      <td>327238</td>\n",
       "      <td>327552</td>\n",
       "    </tr>\n",
       "    <tr>\n",
       "      <th>top</th>\n",
       "      <td>l3Wk_mvAog6XANIuGQ9C7Q</td>\n",
       "      <td>CfX4sTIFFNaRchNswqhVfg</td>\n",
       "      <td>2BMk_drsikKWslJCXmQtjQ</td>\n",
       "      <td>Omg!There's food was good!Ryan is awesome away...</td>\n",
       "      <td>2014-06-22 00:49:26</td>\n",
       "    </tr>\n",
       "    <tr>\n",
       "      <th>freq</th>\n",
       "      <td>1</td>\n",
       "      <td>57</td>\n",
       "      <td>2023</td>\n",
       "      <td>7</td>\n",
       "      <td>3</td>\n",
       "    </tr>\n",
       "  </tbody>\n",
       "</table>\n",
       "</div>"
      ],
      "text/plain": [
       "                     review_id                 user_id  \\\n",
       "count                   327819                  327819   \n",
       "unique                  327819                  228555   \n",
       "top     l3Wk_mvAog6XANIuGQ9C7Q  CfX4sTIFFNaRchNswqhVfg   \n",
       "freq                         1                      57   \n",
       "\n",
       "                   business_id  \\\n",
       "count                   327819   \n",
       "unique                     237   \n",
       "top     2BMk_drsikKWslJCXmQtjQ   \n",
       "freq                      2023   \n",
       "\n",
       "                                                     text                 date  \n",
       "count                                              327819               327819  \n",
       "unique                                             327238               327552  \n",
       "top     Omg!There's food was good!Ryan is awesome away...  2014-06-22 00:49:26  \n",
       "freq                                                    7                    3  "
      ]
     },
     "execution_count": 3,
     "metadata": {},
     "output_type": "execute_result"
    }
   ],
   "source": [
    "reviews.describe()"
   ]
  },
  {
   "cell_type": "code",
   "execution_count": 4,
   "metadata": {},
   "outputs": [
    {
     "data": {
      "text/plain": [
       "review_id      0\n",
       "user_id        0\n",
       "business_id    0\n",
       "text           0\n",
       "date           0\n",
       "dtype: int64"
      ]
     },
     "execution_count": 4,
     "metadata": {},
     "output_type": "execute_result"
    }
   ],
   "source": [
    "# Check for null values\n",
    "reviews.isna().sum()"
   ]
  },
  {
   "cell_type": "code",
   "execution_count": 5,
   "metadata": {},
   "outputs": [
    {
     "name": "stdout",
     "output_type": "stream",
     "text": [
      "review_id      object\n",
      "user_id        object\n",
      "business_id    object\n",
      "text           object\n",
      "date           object\n",
      "dtype: object \n",
      "\n",
      "review_id              object\n",
      "user_id                object\n",
      "business_id            object\n",
      "text                   object\n",
      "date           datetime64[ns]\n",
      "dtype: object\n"
     ]
    }
   ],
   "source": [
    "# Check datatypes\n",
    "print(reviews.dtypes, '\\n')\n",
    "\n",
    "# Change date to datetime, leave other attributes\n",
    "reviews['date'] = pd.to_datetime(reviews['date'])\n",
    "\n",
    "# Print new datatypes\n",
    "print(reviews.dtypes)"
   ]
  },
  {
   "cell_type": "markdown",
   "metadata": {},
   "source": [
    "# Clustering"
   ]
  },
  {
   "cell_type": "code",
   "execution_count": 6,
   "metadata": {},
   "outputs": [],
   "source": [
    "# Find a sample of reviews that belong to a specific business\n",
    "business_series = pd.Series(reviews[\"business_id\"].unique())\n",
    "business_x = business_series[0]\n",
    "reviews_x = reviews[reviews[\"business_id\"] == business_x].reset_index(drop=True)"
   ]
  },
  {
   "cell_type": "markdown",
   "metadata": {},
   "source": [
    "## OG Clusters"
   ]
  },
  {
   "cell_type": "code",
   "execution_count": 100,
   "metadata": {},
   "outputs": [],
   "source": [
    "from sklearn.feature_extraction.text import TfidfTransformer\n",
    "from sklearn.feature_extraction.text import TfidfVectorizer\n",
    "from sklearn.feature_extraction.text import CountVectorizer"
   ]
  },
  {
   "cell_type": "code",
   "execution_count": 102,
   "metadata": {},
   "outputs": [
    {
     "data": {
      "text/plain": [
       "(1421, 7849)"
      ]
     },
     "execution_count": 102,
     "metadata": {},
     "output_type": "execute_result"
    }
   ],
   "source": [
    "#instantiate CountVectorizer() \n",
    "cv=CountVectorizer() \n",
    "\n",
    "# this steps generates word counts for the words in your docs \n",
    "word_count_vector=cv.fit_transform(reviews_x['text'])\n",
    "word_count_vector.shape"
   ]
  },
  {
   "cell_type": "code",
   "execution_count": 108,
   "metadata": {},
   "outputs": [
    {
     "data": {
      "text/plain": [
       "matrix([[0., 0., 0., ..., 0., 0., 0.],\n",
       "        [0., 0., 0., ..., 0., 0., 0.],\n",
       "        [0., 0., 0., ..., 0., 0., 0.],\n",
       "        ...,\n",
       "        [0., 0., 0., ..., 0., 0., 0.],\n",
       "        [0., 0., 0., ..., 0., 0., 0.],\n",
       "        [0., 0., 0., ..., 0., 0., 0.]])"
      ]
     },
     "execution_count": 108,
     "metadata": {},
     "output_type": "execute_result"
    }
   ],
   "source": [
    "# count matrix \n",
    "count_vector=cv.transform(reviews_x['text']) \n",
    "\n",
    "tfidf_transformer=TfidfTransformer(smooth_idf=True,use_idf=True) \n",
    "tfidf_transformer.fit(word_count_vector)\n",
    "\n",
    "# tf-idf scores \n",
    "tf_idf_vector=tfidf_transformer.transform(count_vector)\n",
    "\n",
    "feature_names = cv.get_feature_names_out()\n",
    "\n",
    "pd.DataFrame(tf_idf_vector.T[])"
   ]
  },
  {
   "cell_type": "code",
   "execution_count": 130,
   "metadata": {},
   "outputs": [
    {
     "name": "stdout",
     "output_type": "stream",
     "text": [
      "Initialization complete\n",
      "Iteration 0, inertia 2304.522932482682\n",
      "Iteration 1, inertia 1234.093097610763\n",
      "Iteration 2, inertia 1227.297287867837\n",
      "Iteration 3, inertia 1224.5643734054377\n",
      "Iteration 4, inertia 1223.6778013249325\n",
      "Iteration 5, inertia 1223.2024834283038\n",
      "Iteration 6, inertia 1222.8858992740838\n",
      "Iteration 7, inertia 1222.7933933227655\n",
      "Iteration 8, inertia 1222.756089859988\n",
      "Iteration 9, inertia 1222.7354582994262\n",
      "Iteration 10, inertia 1222.7294167269315\n",
      "Iteration 11, inertia 1222.7239286169574\n",
      "Iteration 12, inertia 1222.7184783816338\n",
      "Converged at iteration 12: strict convergence.\n"
     ]
    },
    {
     "data": {
      "text/plain": [
       "KMeans(init='random', max_iter=100, n_clusters=10, n_init=1, verbose=1)"
      ]
     },
     "execution_count": 130,
     "metadata": {},
     "output_type": "execute_result"
    }
   ],
   "source": [
    "from sklearn.cluster import KMeans\n",
    "km = KMeans(n_clusters=10, init='random', max_iter=100, n_init=1, verbose=1)\n",
    "df = tf_idf_vector\n",
    "km.fit(df)"
   ]
  },
  {
   "cell_type": "markdown",
   "metadata": {},
   "source": [
    "### Distribution of Reviews Across Clusters"
   ]
  },
  {
   "cell_type": "code",
   "execution_count": 131,
   "metadata": {},
   "outputs": [
    {
     "data": {
      "application/vnd.plotly.v1+json": {
       "config": {
        "plotlyServerURL": "https://plot.ly"
       },
       "data": [
        {
         "alignmentgroup": "True",
         "bingroup": "x",
         "hovertemplate": "variable=0<br>value=%{x}<br>count=%{y}<extra></extra>",
         "legendgroup": "0",
         "marker": {
          "color": "#636efa",
          "pattern": {
           "shape": ""
          }
         },
         "name": "0",
         "offsetgroup": "0",
         "orientation": "v",
         "showlegend": true,
         "type": "histogram",
         "x": [
          7,
          4,
          3,
          9,
          4,
          3,
          0,
          4,
          0,
          0,
          3,
          4,
          4,
          6,
          4,
          9,
          0,
          7,
          3,
          1,
          4,
          3,
          4,
          4,
          9,
          7,
          0,
          0,
          0,
          9,
          0,
          0,
          7,
          4,
          4,
          0,
          0,
          5,
          7,
          7,
          5,
          4,
          1,
          6,
          0,
          0,
          7,
          0,
          7,
          3,
          4,
          7,
          0,
          7,
          5,
          6,
          0,
          3,
          0,
          7,
          3,
          3,
          7,
          6,
          0,
          3,
          7,
          8,
          4,
          4,
          4,
          8,
          4,
          0,
          0,
          0,
          0,
          0,
          0,
          3,
          7,
          7,
          7,
          7,
          0,
          0,
          3,
          0,
          4,
          3,
          7,
          4,
          3,
          0,
          0,
          4,
          0,
          0,
          7,
          9,
          0,
          3,
          4,
          4,
          7,
          0,
          6,
          0,
          0,
          4,
          4,
          7,
          6,
          4,
          7,
          0,
          0,
          0,
          2,
          3,
          0,
          5,
          8,
          4,
          7,
          4,
          7,
          0,
          0,
          3,
          0,
          4,
          0,
          0,
          0,
          7,
          6,
          4,
          4,
          0,
          0,
          0,
          3,
          7,
          4,
          7,
          7,
          7,
          3,
          0,
          4,
          3,
          4,
          6,
          0,
          7,
          0,
          0,
          4,
          3,
          0,
          4,
          1,
          3,
          0,
          7,
          4,
          0,
          0,
          3,
          3,
          7,
          6,
          3,
          3,
          7,
          7,
          0,
          7,
          4,
          6,
          7,
          0,
          6,
          4,
          2,
          7,
          3,
          6,
          7,
          3,
          6,
          4,
          0,
          4,
          7,
          3,
          3,
          6,
          0,
          0,
          7,
          0,
          0,
          0,
          0,
          9,
          7,
          0,
          4,
          2,
          0,
          4,
          0,
          3,
          7,
          4,
          7,
          0,
          9,
          4,
          3,
          0,
          0,
          6,
          0,
          7,
          3,
          3,
          4,
          5,
          0,
          0,
          7,
          0,
          6,
          4,
          4,
          0,
          0,
          0,
          1,
          7,
          4,
          0,
          0,
          7,
          1,
          4,
          6,
          6,
          0,
          0,
          4,
          7,
          4,
          4,
          6,
          4,
          0,
          4,
          4,
          6,
          0,
          0,
          4,
          7,
          7,
          5,
          4,
          1,
          7,
          4,
          4,
          6,
          7,
          7,
          4,
          6,
          3,
          7,
          8,
          7,
          7,
          6,
          7,
          5,
          3,
          7,
          4,
          0,
          0,
          4,
          0,
          3,
          4,
          0,
          0,
          4,
          4,
          6,
          4,
          0,
          1,
          4,
          4,
          0,
          4,
          0,
          0,
          4,
          4,
          7,
          4,
          7,
          7,
          2,
          6,
          0,
          6,
          3,
          6,
          7,
          7,
          4,
          6,
          0,
          4,
          0,
          5,
          6,
          0,
          1,
          8,
          7,
          3,
          4,
          0,
          0,
          3,
          0,
          0,
          3,
          0,
          0,
          7,
          3,
          0,
          6,
          0,
          0,
          0,
          0,
          0,
          0,
          4,
          0,
          3,
          7,
          4,
          4,
          0,
          0,
          0,
          7,
          4,
          3,
          3,
          3,
          4,
          0,
          7,
          7,
          7,
          4,
          6,
          0,
          0,
          4,
          4,
          7,
          5,
          4,
          1,
          3,
          4,
          0,
          6,
          4,
          3,
          4,
          6,
          7,
          0,
          7,
          2,
          0,
          4,
          9,
          7,
          4,
          0,
          0,
          4,
          4,
          0,
          0,
          8,
          8,
          4,
          0,
          7,
          3,
          0,
          0,
          4,
          0,
          4,
          0,
          9,
          8,
          4,
          7,
          4,
          5,
          7,
          0,
          3,
          3,
          0,
          7,
          7,
          3,
          4,
          0,
          7,
          0,
          3,
          4,
          7,
          3,
          0,
          4,
          4,
          4,
          0,
          1,
          4,
          0,
          7,
          6,
          5,
          7,
          0,
          3,
          7,
          0,
          4,
          7,
          4,
          7,
          3,
          3,
          0,
          4,
          4,
          3,
          4,
          9,
          0,
          7,
          4,
          7,
          0,
          0,
          7,
          7,
          0,
          1,
          4,
          7,
          7,
          4,
          4,
          0,
          7,
          6,
          4,
          0,
          4,
          4,
          0,
          4,
          0,
          0,
          7,
          4,
          0,
          0,
          7,
          4,
          0,
          7,
          4,
          0,
          6,
          6,
          4,
          7,
          7,
          0,
          4,
          4,
          4,
          0,
          4,
          0,
          0,
          3,
          0,
          0,
          3,
          7,
          7,
          4,
          9,
          3,
          4,
          4,
          0,
          4,
          0,
          7,
          7,
          6,
          7,
          0,
          4,
          4,
          0,
          0,
          0,
          7,
          9,
          3,
          7,
          0,
          0,
          0,
          3,
          7,
          4,
          0,
          0,
          0,
          4,
          9,
          6,
          4,
          0,
          4,
          8,
          4,
          0,
          7,
          0,
          7,
          0,
          6,
          0,
          0,
          7,
          3,
          6,
          4,
          7,
          4,
          3,
          3,
          0,
          0,
          0,
          4,
          0,
          4,
          4,
          6,
          0,
          0,
          3,
          3,
          7,
          0,
          5,
          0,
          0,
          0,
          5,
          0,
          7,
          0,
          0,
          0,
          0,
          0,
          4,
          0,
          3,
          0,
          0,
          4,
          7,
          3,
          4,
          7,
          4,
          0,
          8,
          0,
          0,
          7,
          0,
          4,
          4,
          7,
          0,
          4,
          0,
          4,
          4,
          0,
          0,
          4,
          4,
          4,
          0,
          0,
          3,
          7,
          7,
          0,
          4,
          0,
          7,
          4,
          4,
          4,
          0,
          0,
          0,
          4,
          4,
          3,
          6,
          4,
          3,
          7,
          7,
          4,
          6,
          7,
          3,
          0,
          0,
          6,
          1,
          6,
          4,
          4,
          0,
          9,
          4,
          4,
          0,
          3,
          3,
          3,
          6,
          4,
          6,
          7,
          4,
          0,
          4,
          6,
          0,
          7,
          0,
          9,
          4,
          1,
          7,
          7,
          1,
          4,
          4,
          0,
          4,
          8,
          4,
          0,
          8,
          4,
          6,
          0,
          7,
          8,
          0,
          7,
          4,
          7,
          7,
          0,
          0,
          7,
          4,
          6,
          6,
          0,
          6,
          8,
          0,
          4,
          4,
          0,
          0,
          0,
          7,
          0,
          3,
          4,
          7,
          4,
          4,
          3,
          7,
          4,
          7,
          1,
          7,
          4,
          3,
          4,
          4,
          0,
          0,
          7,
          3,
          7,
          8,
          7,
          7,
          8,
          4,
          0,
          7,
          4,
          4,
          0,
          7,
          3,
          7,
          4,
          1,
          4,
          4,
          3,
          0,
          7,
          7,
          6,
          4,
          0,
          0,
          0,
          4,
          0,
          0,
          4,
          4,
          4,
          5,
          7,
          4,
          7,
          3,
          3,
          4,
          9,
          4,
          4,
          0,
          7,
          3,
          7,
          0,
          7,
          4,
          0,
          0,
          0,
          7,
          0,
          0,
          0,
          4,
          0,
          4,
          4,
          0,
          0,
          3,
          0,
          9,
          0,
          0,
          4,
          0,
          0,
          7,
          4,
          4,
          3,
          0,
          3,
          7,
          0,
          0,
          3,
          0,
          7,
          4,
          3,
          0,
          7,
          0,
          4,
          7,
          5,
          7,
          6,
          0,
          7,
          5,
          1,
          7,
          3,
          4,
          7,
          9,
          0,
          7,
          0,
          0,
          6,
          4,
          3,
          7,
          7,
          0,
          6,
          4,
          4,
          0,
          7,
          7,
          0,
          0,
          7,
          7,
          0,
          4,
          7,
          3,
          4,
          4,
          7,
          7,
          4,
          3,
          0,
          5,
          3,
          9,
          4,
          4,
          0,
          3,
          0,
          3,
          4,
          7,
          7,
          4,
          0,
          0,
          4,
          5,
          4,
          4,
          0,
          0,
          7,
          7,
          0,
          3,
          4,
          8,
          0,
          9,
          4,
          4,
          0,
          4,
          8,
          0,
          3,
          5,
          3,
          7,
          0,
          7,
          0,
          1,
          7,
          4,
          0,
          0,
          4,
          8,
          7,
          6,
          7,
          9,
          0,
          4,
          4,
          4,
          0,
          7,
          0,
          0,
          6,
          4,
          3,
          7,
          0,
          1,
          5,
          0,
          9,
          0,
          0,
          3,
          3,
          5,
          0,
          4,
          0,
          4,
          3,
          7,
          4,
          9,
          0,
          4,
          4,
          0,
          7,
          0,
          0,
          3,
          4,
          3,
          3,
          4,
          0,
          1,
          7,
          0,
          7,
          7,
          4,
          0,
          3,
          0,
          3,
          7,
          6,
          0,
          8,
          4,
          0,
          0,
          7,
          4,
          6,
          6,
          0,
          4,
          6,
          3,
          0,
          4,
          1,
          3,
          4,
          4,
          4,
          7,
          4,
          3,
          7,
          7,
          0,
          0,
          0,
          3,
          4,
          8,
          1,
          0,
          4,
          5,
          4,
          8,
          4,
          4,
          3,
          3,
          7,
          5,
          3,
          0,
          7,
          7,
          0,
          4,
          0,
          0,
          4,
          6,
          0,
          0,
          0,
          0,
          6,
          0,
          4,
          4,
          0,
          0,
          0,
          0,
          6,
          7,
          4,
          0,
          4,
          4,
          0,
          9,
          3,
          8,
          6,
          0,
          6,
          7,
          4,
          7,
          6,
          0,
          7,
          3,
          0,
          4,
          0,
          0,
          7,
          0,
          0,
          3,
          0,
          3,
          4,
          4,
          3,
          4,
          4,
          0,
          8,
          0,
          7,
          4,
          7,
          6,
          4,
          7,
          4,
          4,
          4,
          0,
          0,
          4,
          0,
          7,
          4,
          7,
          0,
          0,
          0,
          0,
          7,
          0,
          3,
          7,
          0,
          3,
          4,
          3,
          4,
          0,
          0,
          0,
          3,
          0,
          0,
          8,
          8,
          6,
          7,
          4,
          3,
          6,
          4,
          0,
          3,
          0,
          4,
          0,
          0,
          4,
          9,
          0,
          6,
          0,
          3,
          4,
          0,
          8,
          6,
          7,
          5,
          0,
          8,
          0,
          0,
          5,
          7,
          8,
          8,
          0,
          9,
          3,
          0,
          0,
          0,
          0,
          4,
          0,
          4,
          3,
          7,
          0,
          0,
          4,
          7,
          0,
          4,
          7,
          4,
          7,
          0,
          4,
          0,
          3,
          4,
          4,
          0,
          4,
          0,
          7,
          7,
          3,
          7,
          3,
          3,
          0,
          6,
          3,
          0,
          7,
          7,
          0,
          4,
          4,
          9,
          5,
          0,
          3,
          2,
          4,
          7,
          6,
          0,
          4,
          4,
          0,
          6,
          4,
          0,
          0,
          0,
          7,
          7,
          0,
          4,
          6,
          0,
          1,
          3,
          0,
          8,
          4,
          5,
          0,
          0,
          0,
          0,
          7,
          4,
          0,
          8,
          6,
          0,
          0,
          0,
          7,
          0,
          0,
          4,
          4,
          7,
          4,
          4,
          4,
          4,
          7,
          1,
          4,
          7,
          4,
          3,
          0,
          0,
          6,
          0,
          7,
          0,
          0,
          0,
          0,
          6,
          4,
          6,
          6,
          0,
          4,
          8,
          9,
          0,
          4,
          7,
          0,
          3,
          0,
          4,
          7,
          7,
          4,
          4,
          0,
          0,
          0,
          7,
          4,
          0,
          0,
          7,
          6,
          3,
          4,
          0,
          0,
          0,
          0,
          0,
          3,
          0,
          0,
          4,
          4,
          6,
          7,
          0,
          7,
          0,
          0,
          0,
          0,
          3,
          1,
          7,
          0,
          0,
          1,
          4,
          4,
          0,
          0,
          0,
          0,
          0,
          8,
          2,
          7,
          0,
          0,
          0,
          3,
          4,
          1,
          6,
          7,
          0,
          3,
          1,
          7,
          3,
          0,
          0,
          3,
          0,
          0,
          7,
          0,
          0,
          0,
          0,
          6,
          7,
          0,
          4,
          6,
          0,
          0,
          0,
          4,
          3,
          4,
          0,
          0,
          0,
          0,
          4,
          0,
          6,
          4,
          0,
          7,
          7,
          0,
          0,
          4,
          7,
          3,
          4,
          1,
          7,
          4,
          6,
          3,
          3,
          0,
          7,
          4,
          4,
          7,
          0,
          0,
          1,
          8,
          0,
          0,
          7,
          0,
          0,
          4,
          3,
          7,
          7,
          4,
          0,
          0,
          0,
          7,
          7,
          3,
          0,
          4,
          0
         ],
         "xaxis": "x",
         "yaxis": "y"
        }
       ],
       "layout": {
        "barmode": "relative",
        "legend": {
         "title": {
          "text": "variable"
         },
         "tracegroupgap": 0
        },
        "template": {
         "data": {
          "bar": [
           {
            "error_x": {
             "color": "#2a3f5f"
            },
            "error_y": {
             "color": "#2a3f5f"
            },
            "marker": {
             "line": {
              "color": "#E5ECF6",
              "width": 0.5
             },
             "pattern": {
              "fillmode": "overlay",
              "size": 10,
              "solidity": 0.2
             }
            },
            "type": "bar"
           }
          ],
          "barpolar": [
           {
            "marker": {
             "line": {
              "color": "#E5ECF6",
              "width": 0.5
             },
             "pattern": {
              "fillmode": "overlay",
              "size": 10,
              "solidity": 0.2
             }
            },
            "type": "barpolar"
           }
          ],
          "carpet": [
           {
            "aaxis": {
             "endlinecolor": "#2a3f5f",
             "gridcolor": "white",
             "linecolor": "white",
             "minorgridcolor": "white",
             "startlinecolor": "#2a3f5f"
            },
            "baxis": {
             "endlinecolor": "#2a3f5f",
             "gridcolor": "white",
             "linecolor": "white",
             "minorgridcolor": "white",
             "startlinecolor": "#2a3f5f"
            },
            "type": "carpet"
           }
          ],
          "choropleth": [
           {
            "colorbar": {
             "outlinewidth": 0,
             "ticks": ""
            },
            "type": "choropleth"
           }
          ],
          "contour": [
           {
            "colorbar": {
             "outlinewidth": 0,
             "ticks": ""
            },
            "colorscale": [
             [
              0,
              "#0d0887"
             ],
             [
              0.1111111111111111,
              "#46039f"
             ],
             [
              0.2222222222222222,
              "#7201a8"
             ],
             [
              0.3333333333333333,
              "#9c179e"
             ],
             [
              0.4444444444444444,
              "#bd3786"
             ],
             [
              0.5555555555555556,
              "#d8576b"
             ],
             [
              0.6666666666666666,
              "#ed7953"
             ],
             [
              0.7777777777777778,
              "#fb9f3a"
             ],
             [
              0.8888888888888888,
              "#fdca26"
             ],
             [
              1,
              "#f0f921"
             ]
            ],
            "type": "contour"
           }
          ],
          "contourcarpet": [
           {
            "colorbar": {
             "outlinewidth": 0,
             "ticks": ""
            },
            "type": "contourcarpet"
           }
          ],
          "heatmap": [
           {
            "colorbar": {
             "outlinewidth": 0,
             "ticks": ""
            },
            "colorscale": [
             [
              0,
              "#0d0887"
             ],
             [
              0.1111111111111111,
              "#46039f"
             ],
             [
              0.2222222222222222,
              "#7201a8"
             ],
             [
              0.3333333333333333,
              "#9c179e"
             ],
             [
              0.4444444444444444,
              "#bd3786"
             ],
             [
              0.5555555555555556,
              "#d8576b"
             ],
             [
              0.6666666666666666,
              "#ed7953"
             ],
             [
              0.7777777777777778,
              "#fb9f3a"
             ],
             [
              0.8888888888888888,
              "#fdca26"
             ],
             [
              1,
              "#f0f921"
             ]
            ],
            "type": "heatmap"
           }
          ],
          "heatmapgl": [
           {
            "colorbar": {
             "outlinewidth": 0,
             "ticks": ""
            },
            "colorscale": [
             [
              0,
              "#0d0887"
             ],
             [
              0.1111111111111111,
              "#46039f"
             ],
             [
              0.2222222222222222,
              "#7201a8"
             ],
             [
              0.3333333333333333,
              "#9c179e"
             ],
             [
              0.4444444444444444,
              "#bd3786"
             ],
             [
              0.5555555555555556,
              "#d8576b"
             ],
             [
              0.6666666666666666,
              "#ed7953"
             ],
             [
              0.7777777777777778,
              "#fb9f3a"
             ],
             [
              0.8888888888888888,
              "#fdca26"
             ],
             [
              1,
              "#f0f921"
             ]
            ],
            "type": "heatmapgl"
           }
          ],
          "histogram": [
           {
            "marker": {
             "pattern": {
              "fillmode": "overlay",
              "size": 10,
              "solidity": 0.2
             }
            },
            "type": "histogram"
           }
          ],
          "histogram2d": [
           {
            "colorbar": {
             "outlinewidth": 0,
             "ticks": ""
            },
            "colorscale": [
             [
              0,
              "#0d0887"
             ],
             [
              0.1111111111111111,
              "#46039f"
             ],
             [
              0.2222222222222222,
              "#7201a8"
             ],
             [
              0.3333333333333333,
              "#9c179e"
             ],
             [
              0.4444444444444444,
              "#bd3786"
             ],
             [
              0.5555555555555556,
              "#d8576b"
             ],
             [
              0.6666666666666666,
              "#ed7953"
             ],
             [
              0.7777777777777778,
              "#fb9f3a"
             ],
             [
              0.8888888888888888,
              "#fdca26"
             ],
             [
              1,
              "#f0f921"
             ]
            ],
            "type": "histogram2d"
           }
          ],
          "histogram2dcontour": [
           {
            "colorbar": {
             "outlinewidth": 0,
             "ticks": ""
            },
            "colorscale": [
             [
              0,
              "#0d0887"
             ],
             [
              0.1111111111111111,
              "#46039f"
             ],
             [
              0.2222222222222222,
              "#7201a8"
             ],
             [
              0.3333333333333333,
              "#9c179e"
             ],
             [
              0.4444444444444444,
              "#bd3786"
             ],
             [
              0.5555555555555556,
              "#d8576b"
             ],
             [
              0.6666666666666666,
              "#ed7953"
             ],
             [
              0.7777777777777778,
              "#fb9f3a"
             ],
             [
              0.8888888888888888,
              "#fdca26"
             ],
             [
              1,
              "#f0f921"
             ]
            ],
            "type": "histogram2dcontour"
           }
          ],
          "mesh3d": [
           {
            "colorbar": {
             "outlinewidth": 0,
             "ticks": ""
            },
            "type": "mesh3d"
           }
          ],
          "parcoords": [
           {
            "line": {
             "colorbar": {
              "outlinewidth": 0,
              "ticks": ""
             }
            },
            "type": "parcoords"
           }
          ],
          "pie": [
           {
            "automargin": true,
            "type": "pie"
           }
          ],
          "scatter": [
           {
            "fillpattern": {
             "fillmode": "overlay",
             "size": 10,
             "solidity": 0.2
            },
            "type": "scatter"
           }
          ],
          "scatter3d": [
           {
            "line": {
             "colorbar": {
              "outlinewidth": 0,
              "ticks": ""
             }
            },
            "marker": {
             "colorbar": {
              "outlinewidth": 0,
              "ticks": ""
             }
            },
            "type": "scatter3d"
           }
          ],
          "scattercarpet": [
           {
            "marker": {
             "colorbar": {
              "outlinewidth": 0,
              "ticks": ""
             }
            },
            "type": "scattercarpet"
           }
          ],
          "scattergeo": [
           {
            "marker": {
             "colorbar": {
              "outlinewidth": 0,
              "ticks": ""
             }
            },
            "type": "scattergeo"
           }
          ],
          "scattergl": [
           {
            "marker": {
             "colorbar": {
              "outlinewidth": 0,
              "ticks": ""
             }
            },
            "type": "scattergl"
           }
          ],
          "scattermapbox": [
           {
            "marker": {
             "colorbar": {
              "outlinewidth": 0,
              "ticks": ""
             }
            },
            "type": "scattermapbox"
           }
          ],
          "scatterpolar": [
           {
            "marker": {
             "colorbar": {
              "outlinewidth": 0,
              "ticks": ""
             }
            },
            "type": "scatterpolar"
           }
          ],
          "scatterpolargl": [
           {
            "marker": {
             "colorbar": {
              "outlinewidth": 0,
              "ticks": ""
             }
            },
            "type": "scatterpolargl"
           }
          ],
          "scatterternary": [
           {
            "marker": {
             "colorbar": {
              "outlinewidth": 0,
              "ticks": ""
             }
            },
            "type": "scatterternary"
           }
          ],
          "surface": [
           {
            "colorbar": {
             "outlinewidth": 0,
             "ticks": ""
            },
            "colorscale": [
             [
              0,
              "#0d0887"
             ],
             [
              0.1111111111111111,
              "#46039f"
             ],
             [
              0.2222222222222222,
              "#7201a8"
             ],
             [
              0.3333333333333333,
              "#9c179e"
             ],
             [
              0.4444444444444444,
              "#bd3786"
             ],
             [
              0.5555555555555556,
              "#d8576b"
             ],
             [
              0.6666666666666666,
              "#ed7953"
             ],
             [
              0.7777777777777778,
              "#fb9f3a"
             ],
             [
              0.8888888888888888,
              "#fdca26"
             ],
             [
              1,
              "#f0f921"
             ]
            ],
            "type": "surface"
           }
          ],
          "table": [
           {
            "cells": {
             "fill": {
              "color": "#EBF0F8"
             },
             "line": {
              "color": "white"
             }
            },
            "header": {
             "fill": {
              "color": "#C8D4E3"
             },
             "line": {
              "color": "white"
             }
            },
            "type": "table"
           }
          ]
         },
         "layout": {
          "annotationdefaults": {
           "arrowcolor": "#2a3f5f",
           "arrowhead": 0,
           "arrowwidth": 1
          },
          "autotypenumbers": "strict",
          "coloraxis": {
           "colorbar": {
            "outlinewidth": 0,
            "ticks": ""
           }
          },
          "colorscale": {
           "diverging": [
            [
             0,
             "#8e0152"
            ],
            [
             0.1,
             "#c51b7d"
            ],
            [
             0.2,
             "#de77ae"
            ],
            [
             0.3,
             "#f1b6da"
            ],
            [
             0.4,
             "#fde0ef"
            ],
            [
             0.5,
             "#f7f7f7"
            ],
            [
             0.6,
             "#e6f5d0"
            ],
            [
             0.7,
             "#b8e186"
            ],
            [
             0.8,
             "#7fbc41"
            ],
            [
             0.9,
             "#4d9221"
            ],
            [
             1,
             "#276419"
            ]
           ],
           "sequential": [
            [
             0,
             "#0d0887"
            ],
            [
             0.1111111111111111,
             "#46039f"
            ],
            [
             0.2222222222222222,
             "#7201a8"
            ],
            [
             0.3333333333333333,
             "#9c179e"
            ],
            [
             0.4444444444444444,
             "#bd3786"
            ],
            [
             0.5555555555555556,
             "#d8576b"
            ],
            [
             0.6666666666666666,
             "#ed7953"
            ],
            [
             0.7777777777777778,
             "#fb9f3a"
            ],
            [
             0.8888888888888888,
             "#fdca26"
            ],
            [
             1,
             "#f0f921"
            ]
           ],
           "sequentialminus": [
            [
             0,
             "#0d0887"
            ],
            [
             0.1111111111111111,
             "#46039f"
            ],
            [
             0.2222222222222222,
             "#7201a8"
            ],
            [
             0.3333333333333333,
             "#9c179e"
            ],
            [
             0.4444444444444444,
             "#bd3786"
            ],
            [
             0.5555555555555556,
             "#d8576b"
            ],
            [
             0.6666666666666666,
             "#ed7953"
            ],
            [
             0.7777777777777778,
             "#fb9f3a"
            ],
            [
             0.8888888888888888,
             "#fdca26"
            ],
            [
             1,
             "#f0f921"
            ]
           ]
          },
          "colorway": [
           "#636efa",
           "#EF553B",
           "#00cc96",
           "#ab63fa",
           "#FFA15A",
           "#19d3f3",
           "#FF6692",
           "#B6E880",
           "#FF97FF",
           "#FECB52"
          ],
          "font": {
           "color": "#2a3f5f"
          },
          "geo": {
           "bgcolor": "white",
           "lakecolor": "white",
           "landcolor": "#E5ECF6",
           "showlakes": true,
           "showland": true,
           "subunitcolor": "white"
          },
          "hoverlabel": {
           "align": "left"
          },
          "hovermode": "closest",
          "mapbox": {
           "style": "light"
          },
          "paper_bgcolor": "white",
          "plot_bgcolor": "#E5ECF6",
          "polar": {
           "angularaxis": {
            "gridcolor": "white",
            "linecolor": "white",
            "ticks": ""
           },
           "bgcolor": "#E5ECF6",
           "radialaxis": {
            "gridcolor": "white",
            "linecolor": "white",
            "ticks": ""
           }
          },
          "scene": {
           "xaxis": {
            "backgroundcolor": "#E5ECF6",
            "gridcolor": "white",
            "gridwidth": 2,
            "linecolor": "white",
            "showbackground": true,
            "ticks": "",
            "zerolinecolor": "white"
           },
           "yaxis": {
            "backgroundcolor": "#E5ECF6",
            "gridcolor": "white",
            "gridwidth": 2,
            "linecolor": "white",
            "showbackground": true,
            "ticks": "",
            "zerolinecolor": "white"
           },
           "zaxis": {
            "backgroundcolor": "#E5ECF6",
            "gridcolor": "white",
            "gridwidth": 2,
            "linecolor": "white",
            "showbackground": true,
            "ticks": "",
            "zerolinecolor": "white"
           }
          },
          "shapedefaults": {
           "line": {
            "color": "#2a3f5f"
           }
          },
          "ternary": {
           "aaxis": {
            "gridcolor": "white",
            "linecolor": "white",
            "ticks": ""
           },
           "baxis": {
            "gridcolor": "white",
            "linecolor": "white",
            "ticks": ""
           },
           "bgcolor": "#E5ECF6",
           "caxis": {
            "gridcolor": "white",
            "linecolor": "white",
            "ticks": ""
           }
          },
          "title": {
           "x": 0.05
          },
          "xaxis": {
           "automargin": true,
           "gridcolor": "white",
           "linecolor": "white",
           "ticks": "",
           "title": {
            "standoff": 15
           },
           "zerolinecolor": "white",
           "zerolinewidth": 2
          },
          "yaxis": {
           "automargin": true,
           "gridcolor": "white",
           "linecolor": "white",
           "ticks": "",
           "title": {
            "standoff": 15
           },
           "zerolinecolor": "white",
           "zerolinewidth": 2
          }
         }
        },
        "title": {
         "text": "Distribution of Reviews Across Clusters"
        },
        "xaxis": {
         "anchor": "y",
         "domain": [
          0,
          1
         ],
         "title": {
          "text": "value"
         }
        },
        "yaxis": {
         "anchor": "x",
         "domain": [
          0,
          1
         ],
         "title": {
          "text": "count"
         }
        }
       }
      }
     },
     "metadata": {},
     "output_type": "display_data"
    }
   ],
   "source": [
    "pd.Series(km.labels_).plot(kind='hist', title='Distribution of Reviews Across Clusters')"
   ]
  },
  {
   "cell_type": "code",
   "execution_count": 106,
   "metadata": {},
   "outputs": [
    {
     "data": {
      "text/plain": [
       "array([[0., 0., 0., ..., 0., 0., 0.],\n",
       "       [0., 0., 0., ..., 0., 0., 0.],\n",
       "       [0., 0., 0., ..., 0., 0., 0.],\n",
       "       ...,\n",
       "       [0., 0., 0., ..., 0., 0., 0.],\n",
       "       [0., 0., 0., ..., 0., 0., 0.],\n",
       "       [0., 0., 0., ..., 0., 0., 0.]])"
      ]
     },
     "execution_count": 106,
     "metadata": {},
     "output_type": "execute_result"
    }
   ],
   "source": [
    "km.cluster_centers_"
   ]
  },
  {
   "cell_type": "markdown",
   "metadata": {},
   "source": [
    "## New Clusters"
   ]
  },
  {
   "cell_type": "code",
   "execution_count": 7,
   "metadata": {},
   "outputs": [
    {
     "name": "stdout",
     "output_type": "stream",
     "text": [
      "showing info https://raw.githubusercontent.com/nltk/nltk_data/gh-pages/index.xml\n"
     ]
    },
    {
     "data": {
      "text/plain": [
       "True"
      ]
     },
     "execution_count": 7,
     "metadata": {},
     "output_type": "execute_result"
    }
   ],
   "source": [
    "nltk.download()"
   ]
  },
  {
   "cell_type": "code",
   "execution_count": 8,
   "metadata": {},
   "outputs": [],
   "source": [
    "# Import re, nltk, and WordNetLemmatizer\n",
    "import re\n",
    "import nltk\n",
    "from nltk.stem import WordNetLemmatizer\n",
    "\n",
    "from sklearn.feature_extraction.text import TfidfVectorizer\n",
    "from sklearn.cluster import KMeans"
   ]
  },
  {
   "cell_type": "code",
   "execution_count": 9,
   "metadata": {},
   "outputs": [
    {
     "name": "stderr",
     "output_type": "stream",
     "text": [
      "[nltk_data] Downloading package stopwords to\n",
      "[nltk_data]     /Users/matteowork/nltk_data...\n",
      "[nltk_data]   Package stopwords is already up-to-date!\n"
     ]
    }
   ],
   "source": [
    "def remove_stopwords(reviews):\n",
    "       # Stopword removal, converting uppercase into lower case, and lemmatization\n",
    "       stopwords = nltk.corpus.stopwords.words('english')\n",
    "       lemmatizer = WordNetLemmatizer()\n",
    "       nltk.download('stopwords')\n",
    "       data_without_stopwords = []\n",
    "       for i in range(0, reviews.shape[0]):\n",
    "              doc = re.sub('[^a-zA-Z]', ' ', reviews['text'][i])\n",
    "              doc = doc.lower()\n",
    "              doc = doc.split()\n",
    "              doc = [lemmatizer.lemmatize(word)\n",
    "                     for word in doc if not word in set(stopwords)]\n",
    "              doc = ' '.join(doc)\n",
    "              data_without_stopwords.append(doc)\n",
    "\n",
    "       return data_without_stopwords\n",
    "\n",
    "data_without_stopwords = remove_stopwords(reviews_x)"
   ]
  },
  {
   "cell_type": "code",
   "execution_count": 12,
   "metadata": {},
   "outputs": [
    {
     "name": "stdout",
     "output_type": "stream",
     "text": [
      "n_samples: 1421, n_features: 6859\n"
     ]
    },
    {
     "data": {
      "text/plain": [
       "KMeans(init='random', max_iter=100, n_clusters=10, n_init=1)"
      ]
     },
     "execution_count": 12,
     "metadata": {},
     "output_type": "execute_result"
    }
   ],
   "source": [
    "vectorizer = TfidfVectorizer() \n",
    "vectors = vectorizer.fit_transform(data_without_stopwords)\n",
    "\n",
    "# Print how many rows and columns of the TF-IDF matrix consists\n",
    "print(\"n_samples: %d, n_features: %d\" % vectors.shape)\n",
    "\n",
    "# Instantiate clustering algo and fit it to the vectors\n",
    "km = KMeans(n_clusters=10, init='random', max_iter=100, n_init=1, verbose=0)\n",
    "km.fit(vectors)"
   ]
  },
  {
   "cell_type": "markdown",
   "metadata": {},
   "source": [
    "### Review Distribution by Cluster"
   ]
  },
  {
   "cell_type": "code",
   "execution_count": 112,
   "metadata": {},
   "outputs": [
    {
     "data": {
      "text/plain": [
       "8    263\n",
       "2    210\n",
       "1    160\n",
       "3    159\n",
       "5    135\n",
       "4    131\n",
       "0    129\n",
       "6     84\n",
       "9     77\n",
       "7     73\n",
       "dtype: int64"
      ]
     },
     "execution_count": 112,
     "metadata": {},
     "output_type": "execute_result"
    }
   ],
   "source": [
    "review_counts = pd.Series(km.labels_).value_counts()\n",
    "review_counts"
   ]
  },
  {
   "cell_type": "code",
   "execution_count": 13,
   "metadata": {},
   "outputs": [
    {
     "data": {
      "application/vnd.plotly.v1+json": {
       "config": {
        "plotlyServerURL": "https://plot.ly"
       },
       "data": [
        {
         "alignmentgroup": "True",
         "bingroup": "x",
         "hovertemplate": "variable=0<br>value=%{x}<br>count=%{y}<extra></extra>",
         "legendgroup": "0",
         "marker": {
          "color": "#636efa",
          "pattern": {
           "shape": ""
          }
         },
         "name": "0",
         "offsetgroup": "0",
         "orientation": "v",
         "showlegend": true,
         "type": "histogram",
         "x": [
          4,
          2,
          8,
          6,
          4,
          2,
          3,
          9,
          8,
          3,
          6,
          2,
          5,
          0,
          6,
          4,
          3,
          3,
          2,
          6,
          2,
          5,
          2,
          9,
          8,
          7,
          1,
          9,
          7,
          5,
          3,
          3,
          1,
          5,
          4,
          8,
          3,
          8,
          5,
          4,
          0,
          7,
          6,
          0,
          2,
          7,
          5,
          0,
          4,
          1,
          8,
          3,
          1,
          5,
          0,
          9,
          2,
          0,
          8,
          1,
          9,
          0,
          3,
          2,
          7,
          9,
          7,
          9,
          4,
          9,
          9,
          6,
          4,
          2,
          1,
          8,
          5,
          2,
          5,
          4,
          0,
          8,
          2,
          2,
          7,
          0,
          8,
          8,
          2,
          8,
          8,
          1,
          4,
          2,
          3,
          4,
          7,
          2,
          7,
          5,
          8,
          4,
          9,
          8,
          5,
          8,
          0,
          3,
          3,
          2,
          8,
          8,
          0,
          4,
          8,
          2,
          8,
          8,
          6,
          9,
          3,
          4,
          9,
          4,
          6,
          2,
          3,
          8,
          1,
          8,
          2,
          0,
          8,
          8,
          5,
          5,
          6,
          2,
          4,
          2,
          3,
          2,
          8,
          0,
          5,
          2,
          0,
          3,
          8,
          2,
          4,
          4,
          1,
          4,
          1,
          1,
          8,
          3,
          8,
          8,
          8,
          0,
          6,
          7,
          2,
          4,
          5,
          8,
          3,
          5,
          8,
          1,
          1,
          8,
          9,
          0,
          3,
          0,
          8,
          0,
          5,
          3,
          2,
          2,
          3,
          8,
          7,
          7,
          5,
          1,
          4,
          4,
          2,
          1,
          8,
          8,
          0,
          9,
          8,
          8,
          2,
          7,
          5,
          8,
          2,
          2,
          1,
          8,
          3,
          8,
          4,
          8,
          8,
          2,
          1,
          3,
          0,
          1,
          8,
          0,
          9,
          0,
          1,
          5,
          5,
          5,
          9,
          2,
          0,
          0,
          5,
          0,
          8,
          3,
          8,
          8,
          9,
          3,
          3,
          2,
          2,
          5,
          4,
          0,
          1,
          3,
          8,
          6,
          2,
          8,
          5,
          2,
          3,
          9,
          4,
          2,
          1,
          0,
          9,
          8,
          8,
          6,
          7,
          3,
          2,
          2,
          2,
          3,
          0,
          2,
          6,
          0,
          6,
          1,
          0,
          1,
          1,
          8,
          3,
          0,
          1,
          0,
          5,
          2,
          5,
          8,
          0,
          9,
          5,
          5,
          1,
          0,
          1,
          3,
          0,
          5,
          8,
          8,
          4,
          2,
          0,
          9,
          2,
          6,
          6,
          8,
          3,
          2,
          3,
          1,
          2,
          2,
          1,
          9,
          4,
          1,
          4,
          7,
          8,
          0,
          9,
          0,
          1,
          4,
          0,
          8,
          2,
          8,
          7,
          0,
          2,
          8,
          5,
          5,
          5,
          0,
          4,
          7,
          8,
          6,
          3,
          8,
          8,
          2,
          1,
          8,
          9,
          7,
          0,
          1,
          3,
          2,
          7,
          2,
          8,
          9,
          2,
          1,
          1,
          2,
          7,
          1,
          3,
          1,
          2,
          9,
          0,
          0,
          9,
          5,
          1,
          8,
          0,
          1,
          6,
          0,
          3,
          9,
          9,
          5,
          2,
          4,
          4,
          6,
          9,
          2,
          2,
          8,
          0,
          2,
          5,
          0,
          3,
          2,
          3,
          5,
          2,
          4,
          4,
          3,
          4,
          5,
          1,
          9,
          4,
          8,
          1,
          4,
          0,
          2,
          2,
          3,
          9,
          8,
          1,
          8,
          2,
          4,
          3,
          2,
          4,
          5,
          7,
          3,
          9,
          8,
          8,
          6,
          5,
          7,
          5,
          1,
          7,
          8,
          3,
          5,
          3,
          2,
          2,
          3,
          7,
          3,
          2,
          9,
          8,
          8,
          6,
          5,
          2,
          3,
          4,
          3,
          5,
          5,
          4,
          2,
          2,
          8,
          0,
          8,
          3,
          8,
          0,
          3,
          6,
          5,
          8,
          8,
          5,
          1,
          3,
          0,
          1,
          0,
          5,
          8,
          4,
          1,
          6,
          1,
          5,
          3,
          6,
          6,
          8,
          7,
          5,
          9,
          8,
          4,
          5,
          3,
          3,
          3,
          8,
          5,
          6,
          7,
          2,
          9,
          9,
          2,
          3,
          0,
          8,
          0,
          7,
          3,
          8,
          4,
          1,
          0,
          1,
          5,
          4,
          5,
          2,
          1,
          5,
          2,
          1,
          8,
          8,
          8,
          5,
          4,
          7,
          4,
          1,
          0,
          5,
          1,
          3,
          4,
          5,
          2,
          3,
          5,
          0,
          1,
          3,
          3,
          1,
          4,
          5,
          4,
          8,
          8,
          3,
          0,
          3,
          0,
          3,
          2,
          1,
          2,
          4,
          4,
          6,
          7,
          8,
          0,
          9,
          3,
          7,
          4,
          4,
          2,
          0,
          3,
          2,
          3,
          0,
          8,
          8,
          3,
          1,
          9,
          0,
          8,
          8,
          8,
          2,
          3,
          3,
          6,
          8,
          1,
          8,
          5,
          6,
          4,
          0,
          4,
          8,
          1,
          3,
          8,
          1,
          8,
          8,
          3,
          5,
          5,
          8,
          0,
          4,
          0,
          1,
          9,
          2,
          8,
          9,
          0,
          5,
          5,
          2,
          4,
          8,
          0,
          7,
          2,
          2,
          6,
          2,
          3,
          6,
          2,
          2,
          5,
          5,
          2,
          3,
          2,
          4,
          1,
          8,
          2,
          8,
          5,
          3,
          6,
          3,
          4,
          3,
          0,
          6,
          1,
          9,
          5,
          2,
          4,
          0,
          0,
          5,
          4,
          1,
          8,
          1,
          7,
          4,
          4,
          8,
          2,
          5,
          8,
          7,
          3,
          2,
          3,
          5,
          6,
          2,
          3,
          5,
          0,
          2,
          6,
          5,
          7,
          3,
          4,
          2,
          6,
          7,
          3,
          0,
          2,
          8,
          5,
          0,
          8,
          2,
          6,
          4,
          7,
          2,
          4,
          8,
          8,
          8,
          1,
          7,
          0,
          1,
          1,
          6,
          8,
          4,
          5,
          5,
          3,
          8,
          2,
          7,
          7,
          8,
          5,
          2,
          4,
          6,
          4,
          3,
          1,
          2,
          1,
          2,
          4,
          2,
          1,
          4,
          0,
          2,
          0,
          1,
          0,
          6,
          7,
          6,
          4,
          6,
          8,
          5,
          2,
          5,
          2,
          1,
          0,
          3,
          0,
          6,
          1,
          4,
          0,
          7,
          3,
          8,
          2,
          2,
          5,
          3,
          6,
          0,
          8,
          4,
          8,
          4,
          2,
          7,
          4,
          3,
          8,
          8,
          1,
          1,
          0,
          8,
          8,
          1,
          5,
          9,
          6,
          2,
          0,
          1,
          9,
          9,
          2,
          4,
          1,
          1,
          8,
          8,
          9,
          3,
          8,
          4,
          3,
          1,
          2,
          7,
          2,
          8,
          1,
          2,
          5,
          3,
          4,
          8,
          1,
          2,
          2,
          2,
          4,
          3,
          2,
          4,
          2,
          1,
          0,
          8,
          1,
          2,
          3,
          8,
          7,
          8,
          3,
          8,
          2,
          5,
          8,
          6,
          8,
          1,
          2,
          2,
          1,
          4,
          2,
          4,
          8,
          1,
          5,
          6,
          1,
          1,
          5,
          2,
          7,
          0,
          5,
          9,
          5,
          8,
          1,
          0,
          4,
          1,
          1,
          8,
          0,
          0,
          8,
          1,
          2,
          2,
          1,
          8,
          6,
          8,
          1,
          2,
          4,
          2,
          9,
          4,
          5,
          1,
          9,
          2,
          4,
          9,
          8,
          1,
          8,
          3,
          8,
          3,
          9,
          8,
          4,
          4,
          2,
          3,
          3,
          1,
          0,
          6,
          4,
          3,
          9,
          8,
          0,
          8,
          2,
          6,
          1,
          3,
          5,
          0,
          6,
          2,
          2,
          4,
          1,
          9,
          0,
          9,
          5,
          3,
          5,
          2,
          6,
          2,
          8,
          2,
          2,
          6,
          4,
          8,
          0,
          8,
          3,
          3,
          1,
          0,
          3,
          8,
          3,
          2,
          2,
          5,
          1,
          1,
          4,
          2,
          5,
          8,
          0,
          5,
          7,
          7,
          5,
          7,
          5,
          1,
          6,
          8,
          8,
          5,
          1,
          0,
          4,
          1,
          8,
          3,
          7,
          7,
          1,
          2,
          6,
          4,
          0,
          4,
          5,
          5,
          6,
          3,
          8,
          1,
          3,
          3,
          9,
          2,
          8,
          5,
          3,
          9,
          5,
          1,
          4,
          8,
          7,
          5,
          6,
          0,
          7,
          8,
          1,
          8,
          8,
          3,
          4,
          6,
          0,
          4,
          0,
          5,
          1,
          6,
          2,
          6,
          2,
          8,
          3,
          2,
          9,
          2,
          0,
          6,
          2,
          5,
          0,
          9,
          0,
          7,
          1,
          8,
          2,
          4,
          0,
          0,
          3,
          5,
          5,
          5,
          8,
          8,
          6,
          4,
          5,
          2,
          1,
          8,
          3,
          7,
          3,
          2,
          2,
          3,
          8,
          1,
          8,
          0,
          3,
          1,
          8,
          8,
          4,
          2,
          0,
          7,
          5,
          7,
          2,
          5,
          0,
          3,
          3,
          5,
          7,
          3,
          4,
          2,
          2,
          8,
          2,
          3,
          2,
          2,
          8,
          8,
          7,
          8,
          2,
          1,
          6,
          6,
          3,
          4,
          8,
          2,
          0,
          5,
          8,
          2,
          1,
          5,
          9,
          8,
          4,
          3,
          8,
          1,
          1,
          2,
          8,
          1,
          1,
          2,
          8,
          1,
          2,
          7,
          0,
          8,
          9,
          2,
          4,
          8,
          8,
          8,
          1,
          8,
          8,
          8,
          0,
          0,
          0,
          3,
          4,
          7,
          5,
          6,
          3,
          9,
          3,
          8,
          2,
          8,
          9,
          0,
          2,
          5,
          1,
          5,
          5,
          1,
          9,
          8,
          4,
          6,
          3,
          3,
          1,
          3,
          8,
          8,
          0,
          4,
          1,
          7,
          9,
          1,
          0,
          2,
          2,
          8,
          2,
          8,
          0,
          4,
          3,
          2,
          4,
          8,
          3,
          8,
          4,
          9,
          3,
          2,
          4,
          1,
          6,
          6,
          5,
          8,
          8,
          8,
          0,
          1,
          4,
          1,
          9,
          2,
          2,
          0,
          7,
          1,
          1,
          2,
          8,
          8,
          9,
          5,
          8,
          2,
          2,
          9,
          5,
          4,
          7,
          8,
          2,
          4,
          9,
          7,
          9,
          6,
          3,
          2,
          8,
          3,
          0,
          4,
          4,
          1,
          6,
          2,
          8,
          8,
          3,
          1,
          8,
          3,
          7,
          8,
          1,
          3,
          3,
          6,
          7,
          3,
          2,
          2,
          4,
          1,
          2,
          2,
          8,
          8,
          6,
          5,
          1,
          2,
          8,
          6,
          8,
          5,
          8,
          9,
          4,
          8,
          0,
          7,
          3,
          8,
          8,
          8,
          3,
          8,
          5,
          8,
          7,
          0,
          2,
          4,
          8,
          1,
          4,
          3,
          1,
          9,
          8,
          6,
          3,
          4,
          8,
          6,
          2,
          9,
          8,
          5,
          8,
          8,
          7,
          8,
          0,
          2,
          8,
          8,
          1,
          3,
          2,
          3,
          5,
          7,
          2,
          1,
          8,
          8,
          8,
          8,
          1,
          8,
          5,
          8,
          0,
          5,
          6,
          5,
          5,
          8,
          6,
          1,
          5,
          3,
          2,
          1,
          4,
          3,
          2,
          8,
          8,
          8,
          1,
          8,
          7,
          1,
          6,
          8,
          4,
          3,
          8,
          6,
          2,
          5,
          8,
          1,
          9,
          3,
          2,
          6,
          1,
          2,
          2,
          0,
          0,
          3,
          8,
          2,
          5,
          8,
          3,
          1,
          6,
          8,
          6,
          2,
          8,
          1,
          5,
          7,
          1,
          4,
          8,
          1,
          8,
          4,
          2,
          3,
          2,
          5,
          2,
          1,
          6,
          8,
          2,
          0,
          9,
          4,
          8,
          4,
          9,
          8,
          3,
          1,
          2,
          6,
          4,
          3,
          8,
          9,
          8,
          8,
          1,
          3,
          1,
          1,
          8,
          3,
          1,
          3,
          2,
          7,
          2,
          8,
          8,
          8
         ],
         "xaxis": "x",
         "yaxis": "y"
        }
       ],
       "layout": {
        "barmode": "relative",
        "legend": {
         "title": {
          "text": "variable"
         },
         "tracegroupgap": 0
        },
        "template": {
         "data": {
          "bar": [
           {
            "error_x": {
             "color": "#2a3f5f"
            },
            "error_y": {
             "color": "#2a3f5f"
            },
            "marker": {
             "line": {
              "color": "#E5ECF6",
              "width": 0.5
             },
             "pattern": {
              "fillmode": "overlay",
              "size": 10,
              "solidity": 0.2
             }
            },
            "type": "bar"
           }
          ],
          "barpolar": [
           {
            "marker": {
             "line": {
              "color": "#E5ECF6",
              "width": 0.5
             },
             "pattern": {
              "fillmode": "overlay",
              "size": 10,
              "solidity": 0.2
             }
            },
            "type": "barpolar"
           }
          ],
          "carpet": [
           {
            "aaxis": {
             "endlinecolor": "#2a3f5f",
             "gridcolor": "white",
             "linecolor": "white",
             "minorgridcolor": "white",
             "startlinecolor": "#2a3f5f"
            },
            "baxis": {
             "endlinecolor": "#2a3f5f",
             "gridcolor": "white",
             "linecolor": "white",
             "minorgridcolor": "white",
             "startlinecolor": "#2a3f5f"
            },
            "type": "carpet"
           }
          ],
          "choropleth": [
           {
            "colorbar": {
             "outlinewidth": 0,
             "ticks": ""
            },
            "type": "choropleth"
           }
          ],
          "contour": [
           {
            "colorbar": {
             "outlinewidth": 0,
             "ticks": ""
            },
            "colorscale": [
             [
              0,
              "#0d0887"
             ],
             [
              0.1111111111111111,
              "#46039f"
             ],
             [
              0.2222222222222222,
              "#7201a8"
             ],
             [
              0.3333333333333333,
              "#9c179e"
             ],
             [
              0.4444444444444444,
              "#bd3786"
             ],
             [
              0.5555555555555556,
              "#d8576b"
             ],
             [
              0.6666666666666666,
              "#ed7953"
             ],
             [
              0.7777777777777778,
              "#fb9f3a"
             ],
             [
              0.8888888888888888,
              "#fdca26"
             ],
             [
              1,
              "#f0f921"
             ]
            ],
            "type": "contour"
           }
          ],
          "contourcarpet": [
           {
            "colorbar": {
             "outlinewidth": 0,
             "ticks": ""
            },
            "type": "contourcarpet"
           }
          ],
          "heatmap": [
           {
            "colorbar": {
             "outlinewidth": 0,
             "ticks": ""
            },
            "colorscale": [
             [
              0,
              "#0d0887"
             ],
             [
              0.1111111111111111,
              "#46039f"
             ],
             [
              0.2222222222222222,
              "#7201a8"
             ],
             [
              0.3333333333333333,
              "#9c179e"
             ],
             [
              0.4444444444444444,
              "#bd3786"
             ],
             [
              0.5555555555555556,
              "#d8576b"
             ],
             [
              0.6666666666666666,
              "#ed7953"
             ],
             [
              0.7777777777777778,
              "#fb9f3a"
             ],
             [
              0.8888888888888888,
              "#fdca26"
             ],
             [
              1,
              "#f0f921"
             ]
            ],
            "type": "heatmap"
           }
          ],
          "heatmapgl": [
           {
            "colorbar": {
             "outlinewidth": 0,
             "ticks": ""
            },
            "colorscale": [
             [
              0,
              "#0d0887"
             ],
             [
              0.1111111111111111,
              "#46039f"
             ],
             [
              0.2222222222222222,
              "#7201a8"
             ],
             [
              0.3333333333333333,
              "#9c179e"
             ],
             [
              0.4444444444444444,
              "#bd3786"
             ],
             [
              0.5555555555555556,
              "#d8576b"
             ],
             [
              0.6666666666666666,
              "#ed7953"
             ],
             [
              0.7777777777777778,
              "#fb9f3a"
             ],
             [
              0.8888888888888888,
              "#fdca26"
             ],
             [
              1,
              "#f0f921"
             ]
            ],
            "type": "heatmapgl"
           }
          ],
          "histogram": [
           {
            "marker": {
             "pattern": {
              "fillmode": "overlay",
              "size": 10,
              "solidity": 0.2
             }
            },
            "type": "histogram"
           }
          ],
          "histogram2d": [
           {
            "colorbar": {
             "outlinewidth": 0,
             "ticks": ""
            },
            "colorscale": [
             [
              0,
              "#0d0887"
             ],
             [
              0.1111111111111111,
              "#46039f"
             ],
             [
              0.2222222222222222,
              "#7201a8"
             ],
             [
              0.3333333333333333,
              "#9c179e"
             ],
             [
              0.4444444444444444,
              "#bd3786"
             ],
             [
              0.5555555555555556,
              "#d8576b"
             ],
             [
              0.6666666666666666,
              "#ed7953"
             ],
             [
              0.7777777777777778,
              "#fb9f3a"
             ],
             [
              0.8888888888888888,
              "#fdca26"
             ],
             [
              1,
              "#f0f921"
             ]
            ],
            "type": "histogram2d"
           }
          ],
          "histogram2dcontour": [
           {
            "colorbar": {
             "outlinewidth": 0,
             "ticks": ""
            },
            "colorscale": [
             [
              0,
              "#0d0887"
             ],
             [
              0.1111111111111111,
              "#46039f"
             ],
             [
              0.2222222222222222,
              "#7201a8"
             ],
             [
              0.3333333333333333,
              "#9c179e"
             ],
             [
              0.4444444444444444,
              "#bd3786"
             ],
             [
              0.5555555555555556,
              "#d8576b"
             ],
             [
              0.6666666666666666,
              "#ed7953"
             ],
             [
              0.7777777777777778,
              "#fb9f3a"
             ],
             [
              0.8888888888888888,
              "#fdca26"
             ],
             [
              1,
              "#f0f921"
             ]
            ],
            "type": "histogram2dcontour"
           }
          ],
          "mesh3d": [
           {
            "colorbar": {
             "outlinewidth": 0,
             "ticks": ""
            },
            "type": "mesh3d"
           }
          ],
          "parcoords": [
           {
            "line": {
             "colorbar": {
              "outlinewidth": 0,
              "ticks": ""
             }
            },
            "type": "parcoords"
           }
          ],
          "pie": [
           {
            "automargin": true,
            "type": "pie"
           }
          ],
          "scatter": [
           {
            "fillpattern": {
             "fillmode": "overlay",
             "size": 10,
             "solidity": 0.2
            },
            "type": "scatter"
           }
          ],
          "scatter3d": [
           {
            "line": {
             "colorbar": {
              "outlinewidth": 0,
              "ticks": ""
             }
            },
            "marker": {
             "colorbar": {
              "outlinewidth": 0,
              "ticks": ""
             }
            },
            "type": "scatter3d"
           }
          ],
          "scattercarpet": [
           {
            "marker": {
             "colorbar": {
              "outlinewidth": 0,
              "ticks": ""
             }
            },
            "type": "scattercarpet"
           }
          ],
          "scattergeo": [
           {
            "marker": {
             "colorbar": {
              "outlinewidth": 0,
              "ticks": ""
             }
            },
            "type": "scattergeo"
           }
          ],
          "scattergl": [
           {
            "marker": {
             "colorbar": {
              "outlinewidth": 0,
              "ticks": ""
             }
            },
            "type": "scattergl"
           }
          ],
          "scattermapbox": [
           {
            "marker": {
             "colorbar": {
              "outlinewidth": 0,
              "ticks": ""
             }
            },
            "type": "scattermapbox"
           }
          ],
          "scatterpolar": [
           {
            "marker": {
             "colorbar": {
              "outlinewidth": 0,
              "ticks": ""
             }
            },
            "type": "scatterpolar"
           }
          ],
          "scatterpolargl": [
           {
            "marker": {
             "colorbar": {
              "outlinewidth": 0,
              "ticks": ""
             }
            },
            "type": "scatterpolargl"
           }
          ],
          "scatterternary": [
           {
            "marker": {
             "colorbar": {
              "outlinewidth": 0,
              "ticks": ""
             }
            },
            "type": "scatterternary"
           }
          ],
          "surface": [
           {
            "colorbar": {
             "outlinewidth": 0,
             "ticks": ""
            },
            "colorscale": [
             [
              0,
              "#0d0887"
             ],
             [
              0.1111111111111111,
              "#46039f"
             ],
             [
              0.2222222222222222,
              "#7201a8"
             ],
             [
              0.3333333333333333,
              "#9c179e"
             ],
             [
              0.4444444444444444,
              "#bd3786"
             ],
             [
              0.5555555555555556,
              "#d8576b"
             ],
             [
              0.6666666666666666,
              "#ed7953"
             ],
             [
              0.7777777777777778,
              "#fb9f3a"
             ],
             [
              0.8888888888888888,
              "#fdca26"
             ],
             [
              1,
              "#f0f921"
             ]
            ],
            "type": "surface"
           }
          ],
          "table": [
           {
            "cells": {
             "fill": {
              "color": "#EBF0F8"
             },
             "line": {
              "color": "white"
             }
            },
            "header": {
             "fill": {
              "color": "#C8D4E3"
             },
             "line": {
              "color": "white"
             }
            },
            "type": "table"
           }
          ]
         },
         "layout": {
          "annotationdefaults": {
           "arrowcolor": "#2a3f5f",
           "arrowhead": 0,
           "arrowwidth": 1
          },
          "autotypenumbers": "strict",
          "coloraxis": {
           "colorbar": {
            "outlinewidth": 0,
            "ticks": ""
           }
          },
          "colorscale": {
           "diverging": [
            [
             0,
             "#8e0152"
            ],
            [
             0.1,
             "#c51b7d"
            ],
            [
             0.2,
             "#de77ae"
            ],
            [
             0.3,
             "#f1b6da"
            ],
            [
             0.4,
             "#fde0ef"
            ],
            [
             0.5,
             "#f7f7f7"
            ],
            [
             0.6,
             "#e6f5d0"
            ],
            [
             0.7,
             "#b8e186"
            ],
            [
             0.8,
             "#7fbc41"
            ],
            [
             0.9,
             "#4d9221"
            ],
            [
             1,
             "#276419"
            ]
           ],
           "sequential": [
            [
             0,
             "#0d0887"
            ],
            [
             0.1111111111111111,
             "#46039f"
            ],
            [
             0.2222222222222222,
             "#7201a8"
            ],
            [
             0.3333333333333333,
             "#9c179e"
            ],
            [
             0.4444444444444444,
             "#bd3786"
            ],
            [
             0.5555555555555556,
             "#d8576b"
            ],
            [
             0.6666666666666666,
             "#ed7953"
            ],
            [
             0.7777777777777778,
             "#fb9f3a"
            ],
            [
             0.8888888888888888,
             "#fdca26"
            ],
            [
             1,
             "#f0f921"
            ]
           ],
           "sequentialminus": [
            [
             0,
             "#0d0887"
            ],
            [
             0.1111111111111111,
             "#46039f"
            ],
            [
             0.2222222222222222,
             "#7201a8"
            ],
            [
             0.3333333333333333,
             "#9c179e"
            ],
            [
             0.4444444444444444,
             "#bd3786"
            ],
            [
             0.5555555555555556,
             "#d8576b"
            ],
            [
             0.6666666666666666,
             "#ed7953"
            ],
            [
             0.7777777777777778,
             "#fb9f3a"
            ],
            [
             0.8888888888888888,
             "#fdca26"
            ],
            [
             1,
             "#f0f921"
            ]
           ]
          },
          "colorway": [
           "#636efa",
           "#EF553B",
           "#00cc96",
           "#ab63fa",
           "#FFA15A",
           "#19d3f3",
           "#FF6692",
           "#B6E880",
           "#FF97FF",
           "#FECB52"
          ],
          "font": {
           "color": "#2a3f5f"
          },
          "geo": {
           "bgcolor": "white",
           "lakecolor": "white",
           "landcolor": "#E5ECF6",
           "showlakes": true,
           "showland": true,
           "subunitcolor": "white"
          },
          "hoverlabel": {
           "align": "left"
          },
          "hovermode": "closest",
          "mapbox": {
           "style": "light"
          },
          "paper_bgcolor": "white",
          "plot_bgcolor": "#E5ECF6",
          "polar": {
           "angularaxis": {
            "gridcolor": "white",
            "linecolor": "white",
            "ticks": ""
           },
           "bgcolor": "#E5ECF6",
           "radialaxis": {
            "gridcolor": "white",
            "linecolor": "white",
            "ticks": ""
           }
          },
          "scene": {
           "xaxis": {
            "backgroundcolor": "#E5ECF6",
            "gridcolor": "white",
            "gridwidth": 2,
            "linecolor": "white",
            "showbackground": true,
            "ticks": "",
            "zerolinecolor": "white"
           },
           "yaxis": {
            "backgroundcolor": "#E5ECF6",
            "gridcolor": "white",
            "gridwidth": 2,
            "linecolor": "white",
            "showbackground": true,
            "ticks": "",
            "zerolinecolor": "white"
           },
           "zaxis": {
            "backgroundcolor": "#E5ECF6",
            "gridcolor": "white",
            "gridwidth": 2,
            "linecolor": "white",
            "showbackground": true,
            "ticks": "",
            "zerolinecolor": "white"
           }
          },
          "shapedefaults": {
           "line": {
            "color": "#2a3f5f"
           }
          },
          "ternary": {
           "aaxis": {
            "gridcolor": "white",
            "linecolor": "white",
            "ticks": ""
           },
           "baxis": {
            "gridcolor": "white",
            "linecolor": "white",
            "ticks": ""
           },
           "bgcolor": "#E5ECF6",
           "caxis": {
            "gridcolor": "white",
            "linecolor": "white",
            "ticks": ""
           }
          },
          "title": {
           "x": 0.05
          },
          "xaxis": {
           "automargin": true,
           "gridcolor": "white",
           "linecolor": "white",
           "ticks": "",
           "title": {
            "standoff": 15
           },
           "zerolinecolor": "white",
           "zerolinewidth": 2
          },
          "yaxis": {
           "automargin": true,
           "gridcolor": "white",
           "linecolor": "white",
           "ticks": "",
           "title": {
            "standoff": 15
           },
           "zerolinecolor": "white",
           "zerolinewidth": 2
          }
         }
        },
        "title": {
         "text": "Distribution of Reviews Across Clusters"
        },
        "xaxis": {
         "anchor": "y",
         "domain": [
          0,
          1
         ],
         "title": {
          "text": "value"
         }
        },
        "yaxis": {
         "anchor": "x",
         "domain": [
          0,
          1
         ],
         "title": {
          "text": "count"
         }
        }
       }
      }
     },
     "metadata": {},
     "output_type": "display_data"
    }
   ],
   "source": [
    "pd.Series(km.labels_).plot(kind='hist', title='Distribution of Reviews Across Clusters')"
   ]
  },
  {
   "cell_type": "markdown",
   "metadata": {},
   "source": [
    "### Create TFIDF Matrix"
   ]
  },
  {
   "cell_type": "code",
   "execution_count": 64,
   "metadata": {},
   "outputs": [
    {
     "name": "stderr",
     "output_type": "stream",
     "text": [
      "/Users/matteowork/opt/anaconda3/lib/python3.9/site-packages/sklearn/utils/deprecation.py:87: FutureWarning:\n",
      "\n",
      "Function get_feature_names is deprecated; get_feature_names is deprecated in 1.0 and will be removed in 1.2. Please use get_feature_names_out instead.\n",
      "\n"
     ]
    },
    {
     "data": {
      "text/html": [
       "<div>\n",
       "<style scoped>\n",
       "    .dataframe tbody tr th:only-of-type {\n",
       "        vertical-align: middle;\n",
       "    }\n",
       "\n",
       "    .dataframe tbody tr th {\n",
       "        vertical-align: top;\n",
       "    }\n",
       "\n",
       "    .dataframe thead th {\n",
       "        text-align: right;\n",
       "    }\n",
       "</style>\n",
       "<table border=\"1\" class=\"dataframe\">\n",
       "  <thead>\n",
       "    <tr style=\"text-align: right;\">\n",
       "      <th></th>\n",
       "      <th>review1</th>\n",
       "      <th>review2</th>\n",
       "      <th>review3</th>\n",
       "      <th>review4</th>\n",
       "      <th>review5</th>\n",
       "      <th>review6</th>\n",
       "      <th>review7</th>\n",
       "      <th>review8</th>\n",
       "      <th>review9</th>\n",
       "      <th>review10</th>\n",
       "    </tr>\n",
       "  </thead>\n",
       "  <tbody>\n",
       "    <tr>\n",
       "      <th>food</th>\n",
       "      <td>0.0</td>\n",
       "      <td>0.043135</td>\n",
       "      <td>0.000000</td>\n",
       "      <td>0.117932</td>\n",
       "      <td>0.000000</td>\n",
       "      <td>0.0</td>\n",
       "      <td>0.000000</td>\n",
       "      <td>0.047657</td>\n",
       "      <td>0.000000</td>\n",
       "      <td>0.000000</td>\n",
       "    </tr>\n",
       "    <tr>\n",
       "      <th>place</th>\n",
       "      <td>0.0</td>\n",
       "      <td>0.093278</td>\n",
       "      <td>0.062133</td>\n",
       "      <td>0.000000</td>\n",
       "      <td>0.000000</td>\n",
       "      <td>0.0</td>\n",
       "      <td>0.000000</td>\n",
       "      <td>0.051527</td>\n",
       "      <td>0.033743</td>\n",
       "      <td>0.042741</td>\n",
       "    </tr>\n",
       "    <tr>\n",
       "      <th>wait</th>\n",
       "      <td>0.0</td>\n",
       "      <td>0.107655</td>\n",
       "      <td>0.000000</td>\n",
       "      <td>0.147164</td>\n",
       "      <td>0.000000</td>\n",
       "      <td>0.0</td>\n",
       "      <td>0.043394</td>\n",
       "      <td>0.178408</td>\n",
       "      <td>0.000000</td>\n",
       "      <td>0.000000</td>\n",
       "    </tr>\n",
       "    <tr>\n",
       "      <th>coffee</th>\n",
       "      <td>0.0</td>\n",
       "      <td>0.052702</td>\n",
       "      <td>0.070210</td>\n",
       "      <td>0.144087</td>\n",
       "      <td>0.083185</td>\n",
       "      <td>0.0</td>\n",
       "      <td>0.084973</td>\n",
       "      <td>0.116451</td>\n",
       "      <td>0.076259</td>\n",
       "      <td>0.000000</td>\n",
       "    </tr>\n",
       "    <tr>\n",
       "      <th>menu</th>\n",
       "      <td>0.0</td>\n",
       "      <td>0.153154</td>\n",
       "      <td>0.000000</td>\n",
       "      <td>0.000000</td>\n",
       "      <td>0.000000</td>\n",
       "      <td>0.0</td>\n",
       "      <td>0.000000</td>\n",
       "      <td>0.056402</td>\n",
       "      <td>0.147740</td>\n",
       "      <td>0.046785</td>\n",
       "    </tr>\n",
       "    <tr>\n",
       "      <th>...</th>\n",
       "      <td>...</td>\n",
       "      <td>...</td>\n",
       "      <td>...</td>\n",
       "      <td>...</td>\n",
       "      <td>...</td>\n",
       "      <td>...</td>\n",
       "      <td>...</td>\n",
       "      <td>...</td>\n",
       "      <td>...</td>\n",
       "      <td>...</td>\n",
       "    </tr>\n",
       "    <tr>\n",
       "      <th>inclusion</th>\n",
       "      <td>0.0</td>\n",
       "      <td>0.000000</td>\n",
       "      <td>0.000000</td>\n",
       "      <td>0.000000</td>\n",
       "      <td>0.000000</td>\n",
       "      <td>0.0</td>\n",
       "      <td>0.000000</td>\n",
       "      <td>0.000000</td>\n",
       "      <td>0.000000</td>\n",
       "      <td>0.000000</td>\n",
       "    </tr>\n",
       "    <tr>\n",
       "      <th>separately</th>\n",
       "      <td>0.0</td>\n",
       "      <td>0.000000</td>\n",
       "      <td>0.000000</td>\n",
       "      <td>0.000000</td>\n",
       "      <td>0.000000</td>\n",
       "      <td>0.0</td>\n",
       "      <td>0.000000</td>\n",
       "      <td>0.000000</td>\n",
       "      <td>0.000000</td>\n",
       "      <td>0.000000</td>\n",
       "    </tr>\n",
       "    <tr>\n",
       "      <th>believed</th>\n",
       "      <td>0.0</td>\n",
       "      <td>0.000000</td>\n",
       "      <td>0.000000</td>\n",
       "      <td>0.000000</td>\n",
       "      <td>0.000000</td>\n",
       "      <td>0.0</td>\n",
       "      <td>0.000000</td>\n",
       "      <td>0.000000</td>\n",
       "      <td>0.000000</td>\n",
       "      <td>0.000000</td>\n",
       "    </tr>\n",
       "    <tr>\n",
       "      <th>tweet</th>\n",
       "      <td>0.0</td>\n",
       "      <td>0.000000</td>\n",
       "      <td>0.000000</td>\n",
       "      <td>0.000000</td>\n",
       "      <td>0.000000</td>\n",
       "      <td>0.0</td>\n",
       "      <td>0.000000</td>\n",
       "      <td>0.000000</td>\n",
       "      <td>0.000000</td>\n",
       "      <td>0.000000</td>\n",
       "    </tr>\n",
       "    <tr>\n",
       "      <th>gay</th>\n",
       "      <td>0.0</td>\n",
       "      <td>0.000000</td>\n",
       "      <td>0.000000</td>\n",
       "      <td>0.000000</td>\n",
       "      <td>0.000000</td>\n",
       "      <td>0.0</td>\n",
       "      <td>0.000000</td>\n",
       "      <td>0.000000</td>\n",
       "      <td>0.000000</td>\n",
       "      <td>0.000000</td>\n",
       "    </tr>\n",
       "  </tbody>\n",
       "</table>\n",
       "<p>6859 rows × 10 columns</p>\n",
       "</div>"
      ],
      "text/plain": [
       "            review1   review2   review3   review4   review5  review6  \\\n",
       "food            0.0  0.043135  0.000000  0.117932  0.000000      0.0   \n",
       "place           0.0  0.093278  0.062133  0.000000  0.000000      0.0   \n",
       "wait            0.0  0.107655  0.000000  0.147164  0.000000      0.0   \n",
       "coffee          0.0  0.052702  0.070210  0.144087  0.083185      0.0   \n",
       "menu            0.0  0.153154  0.000000  0.000000  0.000000      0.0   \n",
       "...             ...       ...       ...       ...       ...      ...   \n",
       "inclusion       0.0  0.000000  0.000000  0.000000  0.000000      0.0   \n",
       "separately      0.0  0.000000  0.000000  0.000000  0.000000      0.0   \n",
       "believed        0.0  0.000000  0.000000  0.000000  0.000000      0.0   \n",
       "tweet           0.0  0.000000  0.000000  0.000000  0.000000      0.0   \n",
       "gay             0.0  0.000000  0.000000  0.000000  0.000000      0.0   \n",
       "\n",
       "             review7   review8   review9  review10  \n",
       "food        0.000000  0.047657  0.000000  0.000000  \n",
       "place       0.000000  0.051527  0.033743  0.042741  \n",
       "wait        0.043394  0.178408  0.000000  0.000000  \n",
       "coffee      0.084973  0.116451  0.076259  0.000000  \n",
       "menu        0.000000  0.056402  0.147740  0.046785  \n",
       "...              ...       ...       ...       ...  \n",
       "inclusion   0.000000  0.000000  0.000000  0.000000  \n",
       "separately  0.000000  0.000000  0.000000  0.000000  \n",
       "believed    0.000000  0.000000  0.000000  0.000000  \n",
       "tweet       0.000000  0.000000  0.000000  0.000000  \n",
       "gay         0.000000  0.000000  0.000000  0.000000  \n",
       "\n",
       "[6859 rows x 10 columns]"
      ]
     },
     "execution_count": 64,
     "metadata": {},
     "output_type": "execute_result"
    }
   ],
   "source": [
    "def matrix_from_vec(vectors):\n",
    "    # Select the first five documents from the data set\n",
    "    tf_idf = pd.DataFrame(vectors.todense())  \n",
    "    tf_idf.columns = vectorizer.get_feature_names()\n",
    "    tfidf_matrix = tf_idf.T\n",
    "    tfidf_matrix.columns = ['review'+ str(i) for i in range(1, tf_idf.shape[0]+1)]\n",
    "    tfidf_matrix['count'] = tfidf_matrix.sum(axis=1)\n",
    "\n",
    "    # Top 10 words \n",
    "    tfidf_matrix = tfidf_matrix.sort_values(by ='count', ascending=False)\n",
    "    tfidf_matrix = tfidf_matrix.drop('count', axis=1)\n",
    "    return tfidf_matrix\n",
    "\n",
    "# Print the first 10 words\n",
    "tfidf_matrix = matrix_from_vec(vectors) \n",
    "tfidf_matrix.iloc[:, :10]"
   ]
  },
  {
   "cell_type": "markdown",
   "metadata": {},
   "source": [
    "### Top Words by Cluster"
   ]
  },
  {
   "cell_type": "code",
   "execution_count": 355,
   "metadata": {},
   "outputs": [
    {
     "data": {
      "text/plain": [
       "0    drink bar balcony square jackson\n",
       "1        food service good nice staff\n",
       "2      ghost upstairs food room table\n",
       "3        great place food service new\n",
       "4      shrimp cheese crepe goat bread\n",
       "5         table time one server would\n",
       "6      fun super food atmosphere lady\n",
       "7       best ever meal muriel orleans\n",
       "8        brunch jazz sunday egg great\n",
       "9      soup turtle lunch good amazing\n",
       "dtype: object"
      ]
     },
     "execution_count": 355,
     "metadata": {},
     "output_type": "execute_result"
    }
   ],
   "source": [
    "def top_words(matrix, n):\n",
    "    assert n >= 1\n",
    "    lables = pd.Series(km.labels_)\n",
    "    top_matrix = pd.DataFrame([\n",
    "        matrix.iloc[:, lables[lables == i].index].mean(axis=1)\n",
    "        for i in range(lables.unique().shape[0])\n",
    "    ]).T\n",
    "\n",
    "    top_matrix = top_matrix.apply(\n",
    "        lambda x: x.sort_values(ascending=False).index, axis=0)\n",
    "        \n",
    "    return top_matrix.reset_index(drop=True).T.apply(\n",
    "        lambda x: ' '.join(x.to_list()[:n]), axis=1)\n",
    "\n",
    "top_words(tfidf_matrix, 5)"
   ]
  },
  {
   "cell_type": "markdown",
   "metadata": {},
   "source": [
    "### Highest Cosine Similarity\n"
   ]
  },
  {
   "cell_type": "code",
   "execution_count": 388,
   "metadata": {},
   "outputs": [
    {
     "data": {
      "text/plain": [
       "(0       1732\n",
       " 1       1871\n",
       " 2       1101\n",
       " 3       1254\n",
       " 4        720\n",
       "         ... \n",
       " 2003    1391\n",
       " 2004     213\n",
       " 2005     990\n",
       " 2006     156\n",
       " 2007    1250\n",
       " Length: 2008, dtype: int64,\n",
       " 0       0.336504\n",
       " 1       0.177481\n",
       " 2       0.232919\n",
       " 3       0.281658\n",
       " 4       0.301150\n",
       "           ...   \n",
       " 2003    0.308653\n",
       " 2004    0.253117\n",
       " 2005    0.194374\n",
       " 2006    0.208138\n",
       " 2007    0.133592\n",
       " Length: 2008, dtype: float64)"
      ]
     },
     "execution_count": 388,
     "metadata": {},
     "output_type": "execute_result"
    }
   ],
   "source": [
    "from sklearn.metrics.pairwise import cosine_similarity\n",
    "\n",
    "def find_targets(matrix):\n",
    "    # create a similatity_matrix\n",
    "    similatity_matrix = cosine_similarity(matrix.T, matrix.T)\n",
    "    # fill the diagonial with 0 since it will skew results\n",
    "    np.fill_diagonal(similatity_matrix, 0)\n",
    "    similatity_matrix = pd.DataFrame(similatity_matrix)\n",
    "    # find the targets \n",
    "    targets = similatity_matrix.idxmax()\n",
    "    # find max values\n",
    "    values = similatity_matrix.apply(lambda x: x.max())\n",
    "    return targets, values\n",
    "\n",
    "targets, values = find_targets(tfidf_matrix)\n",
    "targets, values"
   ]
  },
  {
   "cell_type": "markdown",
   "metadata": {},
   "source": [
    "### Dimensionality Reduction "
   ]
  },
  {
   "cell_type": "code",
   "execution_count": 377,
   "metadata": {},
   "outputs": [
    {
     "data": {
      "text/html": [
       "<div>\n",
       "<style scoped>\n",
       "    .dataframe tbody tr th:only-of-type {\n",
       "        vertical-align: middle;\n",
       "    }\n",
       "\n",
       "    .dataframe tbody tr th {\n",
       "        vertical-align: top;\n",
       "    }\n",
       "\n",
       "    .dataframe thead th {\n",
       "        text-align: right;\n",
       "    }\n",
       "</style>\n",
       "<table border=\"1\" class=\"dataframe\">\n",
       "  <thead>\n",
       "    <tr style=\"text-align: right;\">\n",
       "      <th></th>\n",
       "      <th>x</th>\n",
       "      <th>y</th>\n",
       "    </tr>\n",
       "  </thead>\n",
       "  <tbody>\n",
       "    <tr>\n",
       "      <th>0</th>\n",
       "      <td>8.129188</td>\n",
       "      <td>107.945764</td>\n",
       "    </tr>\n",
       "    <tr>\n",
       "      <th>1</th>\n",
       "      <td>-3.586141</td>\n",
       "      <td>-8.117628</td>\n",
       "    </tr>\n",
       "    <tr>\n",
       "      <th>2</th>\n",
       "      <td>-21.194085</td>\n",
       "      <td>-9.995714</td>\n",
       "    </tr>\n",
       "    <tr>\n",
       "      <th>3</th>\n",
       "      <td>-16.079610</td>\n",
       "      <td>-11.484207</td>\n",
       "    </tr>\n",
       "    <tr>\n",
       "      <th>4</th>\n",
       "      <td>-21.039541</td>\n",
       "      <td>-12.619156</td>\n",
       "    </tr>\n",
       "    <tr>\n",
       "      <th>5</th>\n",
       "      <td>-15.748072</td>\n",
       "      <td>-8.582816</td>\n",
       "    </tr>\n",
       "    <tr>\n",
       "      <th>6</th>\n",
       "      <td>130.598848</td>\n",
       "      <td>-18.852817</td>\n",
       "    </tr>\n",
       "    <tr>\n",
       "      <th>7</th>\n",
       "      <td>-15.751159</td>\n",
       "      <td>-16.038937</td>\n",
       "    </tr>\n",
       "    <tr>\n",
       "      <th>8</th>\n",
       "      <td>-25.859266</td>\n",
       "      <td>-11.336142</td>\n",
       "    </tr>\n",
       "    <tr>\n",
       "      <th>9</th>\n",
       "      <td>-19.470163</td>\n",
       "      <td>-10.918349</td>\n",
       "    </tr>\n",
       "  </tbody>\n",
       "</table>\n",
       "</div>"
      ],
      "text/plain": [
       "            x           y\n",
       "0    8.129188  107.945764\n",
       "1   -3.586141   -8.117628\n",
       "2  -21.194085   -9.995714\n",
       "3  -16.079610  -11.484207\n",
       "4  -21.039541  -12.619156\n",
       "5  -15.748072   -8.582816\n",
       "6  130.598848  -18.852817\n",
       "7  -15.751159  -16.038937\n",
       "8  -25.859266  -11.336142\n",
       "9  -19.470163  -10.918349"
      ]
     },
     "execution_count": 377,
     "metadata": {},
     "output_type": "execute_result"
    }
   ],
   "source": [
    "from sklearn.decomposition import TruncatedSVD\n",
    "from sklearn.preprocessing import StandardScaler\n",
    "\n",
    "def dim_reduce(matrix, n=2):\n",
    "    # Step 1: Scale the data\n",
    "    scaler = StandardScaler()\n",
    "    scaled_data = scaler.fit_transform(matrix)\n",
    "\n",
    "    # Step 2: Perform Singular Value Decomposition (SVD)\n",
    "    svd = TruncatedSVD(n_components=n)\n",
    "    reduced_data = svd.fit_transform(scaled_data)\n",
    "    return pd.DataFrame(reduced_data, columns=['x', 'y'])\n",
    "\n",
    "\n",
    "dim_reduce(km.cluster_centers_)"
   ]
  },
  {
   "cell_type": "markdown",
   "metadata": {},
   "source": [
    "# Output Data\n",
    "\n",
    "## 1. Cluster Overviews \n",
    "This dataframe will be used to generate a plot where a review clusters are ploted on two dimensions \n",
    "### Features\n",
    "* Business ID\n",
    "* Cluster Number (index)\n",
    "* Centroid X\n",
    "* Centroid Y\n",
    "* Top Words\n",
    "* Review Volume \n",
    "* Business Total "
   ]
  },
  {
   "cell_type": "code",
   "execution_count": 378,
   "metadata": {},
   "outputs": [
    {
     "name": "stderr",
     "output_type": "stream",
     "text": [
      "[nltk_data] Downloading package stopwords to\n",
      "[nltk_data]     /Users/matteowork/nltk_data...\n",
      "[nltk_data]   Package stopwords is already up-to-date!\n",
      "/Users/matteowork/opt/anaconda3/lib/python3.9/site-packages/sklearn/utils/deprecation.py:87: FutureWarning:\n",
      "\n",
      "Function get_feature_names is deprecated; get_feature_names is deprecated in 1.0 and will be removed in 1.2. Please use get_feature_names_out instead.\n",
      "\n",
      "[nltk_data] Downloading package stopwords to\n",
      "[nltk_data]     /Users/matteowork/nltk_data...\n",
      "[nltk_data]   Package stopwords is already up-to-date!\n",
      "/Users/matteowork/opt/anaconda3/lib/python3.9/site-packages/sklearn/utils/deprecation.py:87: FutureWarning:\n",
      "\n",
      "Function get_feature_names is deprecated; get_feature_names is deprecated in 1.0 and will be removed in 1.2. Please use get_feature_names_out instead.\n",
      "\n",
      "[nltk_data] Downloading package stopwords to\n",
      "[nltk_data]     /Users/matteowork/nltk_data...\n",
      "[nltk_data]   Package stopwords is already up-to-date!\n",
      "/Users/matteowork/opt/anaconda3/lib/python3.9/site-packages/sklearn/utils/deprecation.py:87: FutureWarning:\n",
      "\n",
      "Function get_feature_names is deprecated; get_feature_names is deprecated in 1.0 and will be removed in 1.2. Please use get_feature_names_out instead.\n",
      "\n",
      "[nltk_data] Downloading package stopwords to\n",
      "[nltk_data]     /Users/matteowork/nltk_data...\n",
      "[nltk_data]   Package stopwords is already up-to-date!\n",
      "/Users/matteowork/opt/anaconda3/lib/python3.9/site-packages/sklearn/utils/deprecation.py:87: FutureWarning:\n",
      "\n",
      "Function get_feature_names is deprecated; get_feature_names is deprecated in 1.0 and will be removed in 1.2. Please use get_feature_names_out instead.\n",
      "\n",
      "[nltk_data] Downloading package stopwords to\n",
      "[nltk_data]     /Users/matteowork/nltk_data...\n",
      "[nltk_data]   Package stopwords is already up-to-date!\n",
      "/Users/matteowork/opt/anaconda3/lib/python3.9/site-packages/sklearn/utils/deprecation.py:87: FutureWarning:\n",
      "\n",
      "Function get_feature_names is deprecated; get_feature_names is deprecated in 1.0 and will be removed in 1.2. Please use get_feature_names_out instead.\n",
      "\n",
      "[nltk_data] Downloading package stopwords to\n",
      "[nltk_data]     /Users/matteowork/nltk_data...\n",
      "[nltk_data]   Package stopwords is already up-to-date!\n",
      "/Users/matteowork/opt/anaconda3/lib/python3.9/site-packages/sklearn/utils/deprecation.py:87: FutureWarning:\n",
      "\n",
      "Function get_feature_names is deprecated; get_feature_names is deprecated in 1.0 and will be removed in 1.2. Please use get_feature_names_out instead.\n",
      "\n",
      "[nltk_data] Downloading package stopwords to\n",
      "[nltk_data]     /Users/matteowork/nltk_data...\n",
      "[nltk_data]   Package stopwords is already up-to-date!\n",
      "/Users/matteowork/opt/anaconda3/lib/python3.9/site-packages/sklearn/utils/deprecation.py:87: FutureWarning:\n",
      "\n",
      "Function get_feature_names is deprecated; get_feature_names is deprecated in 1.0 and will be removed in 1.2. Please use get_feature_names_out instead.\n",
      "\n",
      "[nltk_data] Downloading package stopwords to\n",
      "[nltk_data]     /Users/matteowork/nltk_data...\n",
      "[nltk_data]   Package stopwords is already up-to-date!\n",
      "/Users/matteowork/opt/anaconda3/lib/python3.9/site-packages/sklearn/utils/deprecation.py:87: FutureWarning:\n",
      "\n",
      "Function get_feature_names is deprecated; get_feature_names is deprecated in 1.0 and will be removed in 1.2. Please use get_feature_names_out instead.\n",
      "\n",
      "[nltk_data] Downloading package stopwords to\n",
      "[nltk_data]     /Users/matteowork/nltk_data...\n",
      "[nltk_data]   Package stopwords is already up-to-date!\n",
      "/Users/matteowork/opt/anaconda3/lib/python3.9/site-packages/sklearn/utils/deprecation.py:87: FutureWarning:\n",
      "\n",
      "Function get_feature_names is deprecated; get_feature_names is deprecated in 1.0 and will be removed in 1.2. Please use get_feature_names_out instead.\n",
      "\n",
      "[nltk_data] Downloading package stopwords to\n",
      "[nltk_data]     /Users/matteowork/nltk_data...\n",
      "[nltk_data]   Package stopwords is already up-to-date!\n",
      "/Users/matteowork/opt/anaconda3/lib/python3.9/site-packages/sklearn/utils/deprecation.py:87: FutureWarning:\n",
      "\n",
      "Function get_feature_names is deprecated; get_feature_names is deprecated in 1.0 and will be removed in 1.2. Please use get_feature_names_out instead.\n",
      "\n"
     ]
    },
    {
     "data": {
      "text/html": [
       "<div>\n",
       "<style scoped>\n",
       "    .dataframe tbody tr th:only-of-type {\n",
       "        vertical-align: middle;\n",
       "    }\n",
       "\n",
       "    .dataframe tbody tr th {\n",
       "        vertical-align: top;\n",
       "    }\n",
       "\n",
       "    .dataframe thead th {\n",
       "        text-align: right;\n",
       "    }\n",
       "</style>\n",
       "<table border=\"1\" class=\"dataframe\">\n",
       "  <thead>\n",
       "    <tr style=\"text-align: right;\">\n",
       "      <th></th>\n",
       "      <th>business_id</th>\n",
       "      <th>review_vol</th>\n",
       "      <th>x</th>\n",
       "      <th>y</th>\n",
       "      <th>top_words</th>\n",
       "      <th>cluster_n</th>\n",
       "    </tr>\n",
       "  </thead>\n",
       "  <tbody>\n",
       "    <tr>\n",
       "      <th>0</th>\n",
       "      <td>EQ-TZ2eeD_E0BHuvoaeG5Q</td>\n",
       "      <td>80</td>\n",
       "      <td>-18.890580</td>\n",
       "      <td>-14.518375</td>\n",
       "      <td>portion food good size weird</td>\n",
       "      <td>0</td>\n",
       "    </tr>\n",
       "    <tr>\n",
       "      <th>1</th>\n",
       "      <td>EQ-TZ2eeD_E0BHuvoaeG5Q</td>\n",
       "      <td>568</td>\n",
       "      <td>156.561678</td>\n",
       "      <td>-3.430511</td>\n",
       "      <td>food coffee menu time milktooth</td>\n",
       "      <td>1</td>\n",
       "    </tr>\n",
       "    <tr>\n",
       "      <th>2</th>\n",
       "      <td>EQ-TZ2eeD_E0BHuvoaeG5Q</td>\n",
       "      <td>174</td>\n",
       "      <td>-16.670979</td>\n",
       "      <td>-18.355185</td>\n",
       "      <td>place great food atmosphere brunch</td>\n",
       "      <td>2</td>\n",
       "    </tr>\n",
       "    <tr>\n",
       "      <th>3</th>\n",
       "      <td>EQ-TZ2eeD_E0BHuvoaeG5Q</td>\n",
       "      <td>63</td>\n",
       "      <td>-19.019869</td>\n",
       "      <td>-17.787254</td>\n",
       "      <td>lamb food seating place never</td>\n",
       "      <td>3</td>\n",
       "    </tr>\n",
       "    <tr>\n",
       "      <th>4</th>\n",
       "      <td>EQ-TZ2eeD_E0BHuvoaeG5Q</td>\n",
       "      <td>67</td>\n",
       "      <td>-18.970382</td>\n",
       "      <td>-11.374129</td>\n",
       "      <td>always wait food love time</td>\n",
       "      <td>4</td>\n",
       "    </tr>\n",
       "    <tr>\n",
       "      <th>...</th>\n",
       "      <td>...</td>\n",
       "      <td>...</td>\n",
       "      <td>...</td>\n",
       "      <td>...</td>\n",
       "      <td>...</td>\n",
       "      <td>...</td>\n",
       "    </tr>\n",
       "    <tr>\n",
       "      <th>5</th>\n",
       "      <td>Zi-F-YvyVOK0k5QD7lrLOg</td>\n",
       "      <td>181</td>\n",
       "      <td>-13.681275</td>\n",
       "      <td>83.369940</td>\n",
       "      <td>square jackson lunch muriel soup</td>\n",
       "      <td>5</td>\n",
       "    </tr>\n",
       "    <tr>\n",
       "      <th>6</th>\n",
       "      <td>Zi-F-YvyVOK0k5QD7lrLOg</td>\n",
       "      <td>24</td>\n",
       "      <td>-21.361290</td>\n",
       "      <td>-16.972717</td>\n",
       "      <td>attitude food start awful management</td>\n",
       "      <td>6</td>\n",
       "    </tr>\n",
       "    <tr>\n",
       "      <th>7</th>\n",
       "      <td>Zi-F-YvyVOK0k5QD7lrLOg</td>\n",
       "      <td>182</td>\n",
       "      <td>-7.242404</td>\n",
       "      <td>-10.442259</td>\n",
       "      <td>pork chop double cut best</td>\n",
       "      <td>7</td>\n",
       "    </tr>\n",
       "    <tr>\n",
       "      <th>8</th>\n",
       "      <td>Zi-F-YvyVOK0k5QD7lrLOg</td>\n",
       "      <td>173</td>\n",
       "      <td>-12.053303</td>\n",
       "      <td>-5.452086</td>\n",
       "      <td>cheese crepe goat shrimp crawfish</td>\n",
       "      <td>8</td>\n",
       "    </tr>\n",
       "    <tr>\n",
       "      <th>9</th>\n",
       "      <td>Zi-F-YvyVOK0k5QD7lrLOg</td>\n",
       "      <td>235</td>\n",
       "      <td>-14.550248</td>\n",
       "      <td>-34.014842</td>\n",
       "      <td>food back staff service place</td>\n",
       "      <td>9</td>\n",
       "    </tr>\n",
       "  </tbody>\n",
       "</table>\n",
       "<p>100 rows × 6 columns</p>\n",
       "</div>"
      ],
      "text/plain": [
       "               business_id  review_vol           x          y  \\\n",
       "0   EQ-TZ2eeD_E0BHuvoaeG5Q          80  -18.890580 -14.518375   \n",
       "1   EQ-TZ2eeD_E0BHuvoaeG5Q         568  156.561678  -3.430511   \n",
       "2   EQ-TZ2eeD_E0BHuvoaeG5Q         174  -16.670979 -18.355185   \n",
       "3   EQ-TZ2eeD_E0BHuvoaeG5Q          63  -19.019869 -17.787254   \n",
       "4   EQ-TZ2eeD_E0BHuvoaeG5Q          67  -18.970382 -11.374129   \n",
       "..                     ...         ...         ...        ...   \n",
       "5   Zi-F-YvyVOK0k5QD7lrLOg         181  -13.681275  83.369940   \n",
       "6   Zi-F-YvyVOK0k5QD7lrLOg          24  -21.361290 -16.972717   \n",
       "7   Zi-F-YvyVOK0k5QD7lrLOg         182   -7.242404 -10.442259   \n",
       "8   Zi-F-YvyVOK0k5QD7lrLOg         173  -12.053303  -5.452086   \n",
       "9   Zi-F-YvyVOK0k5QD7lrLOg         235  -14.550248 -34.014842   \n",
       "\n",
       "                               top_words  cluster_n  \n",
       "0           portion food good size weird          0  \n",
       "1        food coffee menu time milktooth          1  \n",
       "2     place great food atmosphere brunch          2  \n",
       "3          lamb food seating place never          3  \n",
       "4             always wait food love time          4  \n",
       "..                                   ...        ...  \n",
       "5       square jackson lunch muriel soup          5  \n",
       "6   attitude food start awful management          6  \n",
       "7              pork chop double cut best          7  \n",
       "8      cheese crepe goat shrimp crawfish          8  \n",
       "9          food back staff service place          9  \n",
       "\n",
       "[100 rows x 6 columns]"
      ]
     },
     "execution_count": 378,
     "metadata": {},
     "output_type": "execute_result"
    }
   ],
   "source": [
    "cluster_summaries = []\n",
    "\n",
    "for i in range(10):\n",
    "    business_x = business_series[i]\n",
    "    reviews_x = reviews[reviews[\"business_id\"] == business_x].reset_index(drop=True)\n",
    "\n",
    "    data_without_stopwords = remove_stopwords(reviews_x)\n",
    "\n",
    "    vectorizer = TfidfVectorizer() \n",
    "    vectors = vectorizer.fit_transform(data_without_stopwords)\n",
    "\n",
    "    # Instantiate clustering algo and fit it to the vectors\n",
    "    km = KMeans(n_clusters=10, init='random', max_iter=100, n_init=1, verbose=0)\n",
    "    km.fit(vectors)\n",
    "\n",
    "    tfidf_matrix = matrix_from_vec(vectors) \n",
    "\n",
    "    coordinates = dim_reduce(km.cluster_centers_)\n",
    "\n",
    "    cluster_summary = pd.DataFrame().assign(\n",
    "        business_id = np.repeat(business_x, review_counts.shape[0]),\n",
    "        review_vol = pd.Series(km.labels_).value_counts(),\n",
    "        x = coordinates['x'],\n",
    "        y = coordinates['y'],\n",
    "        top_words = top_words(tfidf_matrix, 5),\n",
    "    )\n",
    "    cluster_summary['cluster_n'] = cluster_summary.index\n",
    "    cluster_summaries.append(cluster_summary)\n",
    "\n",
    "cluster_summaries = pd.concat(cluster_summaries)\n",
    "cluster_summaries"
   ]
  },
  {
   "cell_type": "code",
   "execution_count": 380,
   "metadata": {},
   "outputs": [],
   "source": [
    "cluster_summaries.to_csv('cluster-summaries.csv', index=False)"
   ]
  },
  {
   "cell_type": "code",
   "execution_count": 379,
   "metadata": {},
   "outputs": [
    {
     "data": {
      "application/vnd.plotly.v1+json": {
       "config": {
        "plotlyServerURL": "https://plot.ly"
       },
       "data": [
        {
         "hovertemplate": "x=%{x}<br>y=%{y}<br>review_vol=%{marker.size}<br>cluster_n=%{marker.color}<extra></extra>",
         "legendgroup": "",
         "marker": {
          "color": [
           0,
           1,
           2,
           3,
           4,
           5,
           6,
           7,
           8,
           9
          ],
          "coloraxis": "coloraxis",
          "size": [
           196,
           210,
           392,
           188,
           227,
           181,
           24,
           182,
           173,
           235
          ],
          "sizemode": "area",
          "sizeref": 0.98,
          "symbol": "circle"
         },
         "mode": "markers",
         "name": "",
         "orientation": "v",
         "showlegend": false,
         "type": "scatter",
         "x": [
          -14.084985752145101,
          -18.693532768276533,
          132.4469891380827,
          -15.690022942562276,
          -15.089927729263698,
          -13.681274907534517,
          -21.361290142693658,
          -7.242403841242211,
          -12.053303075061928,
          -14.55024797930254
         ],
         "xaxis": "x",
         "y": [
          7.532938770273914,
          -4.369979303981235,
          -0.8987207687171254,
          -3.756438279541001,
          -14.9958369358927,
          83.36994034624595,
          -16.972717338692117,
          -10.442259327460343,
          -5.452085657069895,
          -34.014841505163886
         ],
         "yaxis": "y"
        }
       ],
       "layout": {
        "coloraxis": {
         "colorbar": {
          "title": {
           "text": "cluster_n"
          }
         },
         "colorscale": [
          [
           0,
           "#0d0887"
          ],
          [
           0.1111111111111111,
           "#46039f"
          ],
          [
           0.2222222222222222,
           "#7201a8"
          ],
          [
           0.3333333333333333,
           "#9c179e"
          ],
          [
           0.4444444444444444,
           "#bd3786"
          ],
          [
           0.5555555555555556,
           "#d8576b"
          ],
          [
           0.6666666666666666,
           "#ed7953"
          ],
          [
           0.7777777777777778,
           "#fb9f3a"
          ],
          [
           0.8888888888888888,
           "#fdca26"
          ],
          [
           1,
           "#f0f921"
          ]
         ]
        },
        "hovermode": "closest",
        "legend": {
         "itemsizing": "constant",
         "tracegroupgap": 0
        },
        "margin": {
         "t": 60
        },
        "template": {
         "data": {
          "bar": [
           {
            "error_x": {
             "color": "#2a3f5f"
            },
            "error_y": {
             "color": "#2a3f5f"
            },
            "marker": {
             "line": {
              "color": "#E5ECF6",
              "width": 0.5
             },
             "pattern": {
              "fillmode": "overlay",
              "size": 10,
              "solidity": 0.2
             }
            },
            "type": "bar"
           }
          ],
          "barpolar": [
           {
            "marker": {
             "line": {
              "color": "#E5ECF6",
              "width": 0.5
             },
             "pattern": {
              "fillmode": "overlay",
              "size": 10,
              "solidity": 0.2
             }
            },
            "type": "barpolar"
           }
          ],
          "carpet": [
           {
            "aaxis": {
             "endlinecolor": "#2a3f5f",
             "gridcolor": "white",
             "linecolor": "white",
             "minorgridcolor": "white",
             "startlinecolor": "#2a3f5f"
            },
            "baxis": {
             "endlinecolor": "#2a3f5f",
             "gridcolor": "white",
             "linecolor": "white",
             "minorgridcolor": "white",
             "startlinecolor": "#2a3f5f"
            },
            "type": "carpet"
           }
          ],
          "choropleth": [
           {
            "colorbar": {
             "outlinewidth": 0,
             "ticks": ""
            },
            "type": "choropleth"
           }
          ],
          "contour": [
           {
            "colorbar": {
             "outlinewidth": 0,
             "ticks": ""
            },
            "colorscale": [
             [
              0,
              "#0d0887"
             ],
             [
              0.1111111111111111,
              "#46039f"
             ],
             [
              0.2222222222222222,
              "#7201a8"
             ],
             [
              0.3333333333333333,
              "#9c179e"
             ],
             [
              0.4444444444444444,
              "#bd3786"
             ],
             [
              0.5555555555555556,
              "#d8576b"
             ],
             [
              0.6666666666666666,
              "#ed7953"
             ],
             [
              0.7777777777777778,
              "#fb9f3a"
             ],
             [
              0.8888888888888888,
              "#fdca26"
             ],
             [
              1,
              "#f0f921"
             ]
            ],
            "type": "contour"
           }
          ],
          "contourcarpet": [
           {
            "colorbar": {
             "outlinewidth": 0,
             "ticks": ""
            },
            "type": "contourcarpet"
           }
          ],
          "heatmap": [
           {
            "colorbar": {
             "outlinewidth": 0,
             "ticks": ""
            },
            "colorscale": [
             [
              0,
              "#0d0887"
             ],
             [
              0.1111111111111111,
              "#46039f"
             ],
             [
              0.2222222222222222,
              "#7201a8"
             ],
             [
              0.3333333333333333,
              "#9c179e"
             ],
             [
              0.4444444444444444,
              "#bd3786"
             ],
             [
              0.5555555555555556,
              "#d8576b"
             ],
             [
              0.6666666666666666,
              "#ed7953"
             ],
             [
              0.7777777777777778,
              "#fb9f3a"
             ],
             [
              0.8888888888888888,
              "#fdca26"
             ],
             [
              1,
              "#f0f921"
             ]
            ],
            "type": "heatmap"
           }
          ],
          "heatmapgl": [
           {
            "colorbar": {
             "outlinewidth": 0,
             "ticks": ""
            },
            "colorscale": [
             [
              0,
              "#0d0887"
             ],
             [
              0.1111111111111111,
              "#46039f"
             ],
             [
              0.2222222222222222,
              "#7201a8"
             ],
             [
              0.3333333333333333,
              "#9c179e"
             ],
             [
              0.4444444444444444,
              "#bd3786"
             ],
             [
              0.5555555555555556,
              "#d8576b"
             ],
             [
              0.6666666666666666,
              "#ed7953"
             ],
             [
              0.7777777777777778,
              "#fb9f3a"
             ],
             [
              0.8888888888888888,
              "#fdca26"
             ],
             [
              1,
              "#f0f921"
             ]
            ],
            "type": "heatmapgl"
           }
          ],
          "histogram": [
           {
            "marker": {
             "pattern": {
              "fillmode": "overlay",
              "size": 10,
              "solidity": 0.2
             }
            },
            "type": "histogram"
           }
          ],
          "histogram2d": [
           {
            "colorbar": {
             "outlinewidth": 0,
             "ticks": ""
            },
            "colorscale": [
             [
              0,
              "#0d0887"
             ],
             [
              0.1111111111111111,
              "#46039f"
             ],
             [
              0.2222222222222222,
              "#7201a8"
             ],
             [
              0.3333333333333333,
              "#9c179e"
             ],
             [
              0.4444444444444444,
              "#bd3786"
             ],
             [
              0.5555555555555556,
              "#d8576b"
             ],
             [
              0.6666666666666666,
              "#ed7953"
             ],
             [
              0.7777777777777778,
              "#fb9f3a"
             ],
             [
              0.8888888888888888,
              "#fdca26"
             ],
             [
              1,
              "#f0f921"
             ]
            ],
            "type": "histogram2d"
           }
          ],
          "histogram2dcontour": [
           {
            "colorbar": {
             "outlinewidth": 0,
             "ticks": ""
            },
            "colorscale": [
             [
              0,
              "#0d0887"
             ],
             [
              0.1111111111111111,
              "#46039f"
             ],
             [
              0.2222222222222222,
              "#7201a8"
             ],
             [
              0.3333333333333333,
              "#9c179e"
             ],
             [
              0.4444444444444444,
              "#bd3786"
             ],
             [
              0.5555555555555556,
              "#d8576b"
             ],
             [
              0.6666666666666666,
              "#ed7953"
             ],
             [
              0.7777777777777778,
              "#fb9f3a"
             ],
             [
              0.8888888888888888,
              "#fdca26"
             ],
             [
              1,
              "#f0f921"
             ]
            ],
            "type": "histogram2dcontour"
           }
          ],
          "mesh3d": [
           {
            "colorbar": {
             "outlinewidth": 0,
             "ticks": ""
            },
            "type": "mesh3d"
           }
          ],
          "parcoords": [
           {
            "line": {
             "colorbar": {
              "outlinewidth": 0,
              "ticks": ""
             }
            },
            "type": "parcoords"
           }
          ],
          "pie": [
           {
            "automargin": true,
            "type": "pie"
           }
          ],
          "scatter": [
           {
            "fillpattern": {
             "fillmode": "overlay",
             "size": 10,
             "solidity": 0.2
            },
            "type": "scatter"
           }
          ],
          "scatter3d": [
           {
            "line": {
             "colorbar": {
              "outlinewidth": 0,
              "ticks": ""
             }
            },
            "marker": {
             "colorbar": {
              "outlinewidth": 0,
              "ticks": ""
             }
            },
            "type": "scatter3d"
           }
          ],
          "scattercarpet": [
           {
            "marker": {
             "colorbar": {
              "outlinewidth": 0,
              "ticks": ""
             }
            },
            "type": "scattercarpet"
           }
          ],
          "scattergeo": [
           {
            "marker": {
             "colorbar": {
              "outlinewidth": 0,
              "ticks": ""
             }
            },
            "type": "scattergeo"
           }
          ],
          "scattergl": [
           {
            "marker": {
             "colorbar": {
              "outlinewidth": 0,
              "ticks": ""
             }
            },
            "type": "scattergl"
           }
          ],
          "scattermapbox": [
           {
            "marker": {
             "colorbar": {
              "outlinewidth": 0,
              "ticks": ""
             }
            },
            "type": "scattermapbox"
           }
          ],
          "scatterpolar": [
           {
            "marker": {
             "colorbar": {
              "outlinewidth": 0,
              "ticks": ""
             }
            },
            "type": "scatterpolar"
           }
          ],
          "scatterpolargl": [
           {
            "marker": {
             "colorbar": {
              "outlinewidth": 0,
              "ticks": ""
             }
            },
            "type": "scatterpolargl"
           }
          ],
          "scatterternary": [
           {
            "marker": {
             "colorbar": {
              "outlinewidth": 0,
              "ticks": ""
             }
            },
            "type": "scatterternary"
           }
          ],
          "surface": [
           {
            "colorbar": {
             "outlinewidth": 0,
             "ticks": ""
            },
            "colorscale": [
             [
              0,
              "#0d0887"
             ],
             [
              0.1111111111111111,
              "#46039f"
             ],
             [
              0.2222222222222222,
              "#7201a8"
             ],
             [
              0.3333333333333333,
              "#9c179e"
             ],
             [
              0.4444444444444444,
              "#bd3786"
             ],
             [
              0.5555555555555556,
              "#d8576b"
             ],
             [
              0.6666666666666666,
              "#ed7953"
             ],
             [
              0.7777777777777778,
              "#fb9f3a"
             ],
             [
              0.8888888888888888,
              "#fdca26"
             ],
             [
              1,
              "#f0f921"
             ]
            ],
            "type": "surface"
           }
          ],
          "table": [
           {
            "cells": {
             "fill": {
              "color": "#EBF0F8"
             },
             "line": {
              "color": "white"
             }
            },
            "header": {
             "fill": {
              "color": "#C8D4E3"
             },
             "line": {
              "color": "white"
             }
            },
            "type": "table"
           }
          ]
         },
         "layout": {
          "annotationdefaults": {
           "arrowcolor": "#2a3f5f",
           "arrowhead": 0,
           "arrowwidth": 1
          },
          "autotypenumbers": "strict",
          "coloraxis": {
           "colorbar": {
            "outlinewidth": 0,
            "ticks": ""
           }
          },
          "colorscale": {
           "diverging": [
            [
             0,
             "#8e0152"
            ],
            [
             0.1,
             "#c51b7d"
            ],
            [
             0.2,
             "#de77ae"
            ],
            [
             0.3,
             "#f1b6da"
            ],
            [
             0.4,
             "#fde0ef"
            ],
            [
             0.5,
             "#f7f7f7"
            ],
            [
             0.6,
             "#e6f5d0"
            ],
            [
             0.7,
             "#b8e186"
            ],
            [
             0.8,
             "#7fbc41"
            ],
            [
             0.9,
             "#4d9221"
            ],
            [
             1,
             "#276419"
            ]
           ],
           "sequential": [
            [
             0,
             "#0d0887"
            ],
            [
             0.1111111111111111,
             "#46039f"
            ],
            [
             0.2222222222222222,
             "#7201a8"
            ],
            [
             0.3333333333333333,
             "#9c179e"
            ],
            [
             0.4444444444444444,
             "#bd3786"
            ],
            [
             0.5555555555555556,
             "#d8576b"
            ],
            [
             0.6666666666666666,
             "#ed7953"
            ],
            [
             0.7777777777777778,
             "#fb9f3a"
            ],
            [
             0.8888888888888888,
             "#fdca26"
            ],
            [
             1,
             "#f0f921"
            ]
           ],
           "sequentialminus": [
            [
             0,
             "#0d0887"
            ],
            [
             0.1111111111111111,
             "#46039f"
            ],
            [
             0.2222222222222222,
             "#7201a8"
            ],
            [
             0.3333333333333333,
             "#9c179e"
            ],
            [
             0.4444444444444444,
             "#bd3786"
            ],
            [
             0.5555555555555556,
             "#d8576b"
            ],
            [
             0.6666666666666666,
             "#ed7953"
            ],
            [
             0.7777777777777778,
             "#fb9f3a"
            ],
            [
             0.8888888888888888,
             "#fdca26"
            ],
            [
             1,
             "#f0f921"
            ]
           ]
          },
          "colorway": [
           "#636efa",
           "#EF553B",
           "#00cc96",
           "#ab63fa",
           "#FFA15A",
           "#19d3f3",
           "#FF6692",
           "#B6E880",
           "#FF97FF",
           "#FECB52"
          ],
          "font": {
           "color": "#2a3f5f"
          },
          "geo": {
           "bgcolor": "white",
           "lakecolor": "white",
           "landcolor": "#E5ECF6",
           "showlakes": true,
           "showland": true,
           "subunitcolor": "white"
          },
          "hoverlabel": {
           "align": "left"
          },
          "hovermode": "closest",
          "mapbox": {
           "style": "light"
          },
          "paper_bgcolor": "white",
          "plot_bgcolor": "#E5ECF6",
          "polar": {
           "angularaxis": {
            "gridcolor": "white",
            "linecolor": "white",
            "ticks": ""
           },
           "bgcolor": "#E5ECF6",
           "radialaxis": {
            "gridcolor": "white",
            "linecolor": "white",
            "ticks": ""
           }
          },
          "scene": {
           "xaxis": {
            "backgroundcolor": "#E5ECF6",
            "gridcolor": "white",
            "gridwidth": 2,
            "linecolor": "white",
            "showbackground": true,
            "ticks": "",
            "zerolinecolor": "white"
           },
           "yaxis": {
            "backgroundcolor": "#E5ECF6",
            "gridcolor": "white",
            "gridwidth": 2,
            "linecolor": "white",
            "showbackground": true,
            "ticks": "",
            "zerolinecolor": "white"
           },
           "zaxis": {
            "backgroundcolor": "#E5ECF6",
            "gridcolor": "white",
            "gridwidth": 2,
            "linecolor": "white",
            "showbackground": true,
            "ticks": "",
            "zerolinecolor": "white"
           }
          },
          "shapedefaults": {
           "line": {
            "color": "#2a3f5f"
           }
          },
          "ternary": {
           "aaxis": {
            "gridcolor": "white",
            "linecolor": "white",
            "ticks": ""
           },
           "baxis": {
            "gridcolor": "white",
            "linecolor": "white",
            "ticks": ""
           },
           "bgcolor": "#E5ECF6",
           "caxis": {
            "gridcolor": "white",
            "linecolor": "white",
            "ticks": ""
           }
          },
          "title": {
           "x": 0.05
          },
          "xaxis": {
           "automargin": true,
           "gridcolor": "white",
           "linecolor": "white",
           "ticks": "",
           "title": {
            "standoff": 15
           },
           "zerolinecolor": "white",
           "zerolinewidth": 2
          },
          "yaxis": {
           "automargin": true,
           "gridcolor": "white",
           "linecolor": "white",
           "ticks": "",
           "title": {
            "standoff": 15
           },
           "zerolinecolor": "white",
           "zerolinewidth": 2
          }
         }
        },
        "xaxis": {
         "anchor": "y",
         "domain": [
          0,
          1
         ],
         "title": {
          "text": "x"
         }
        },
        "yaxis": {
         "anchor": "x",
         "domain": [
          0,
          1
         ],
         "title": {
          "text": "y"
         }
        }
       }
      }
     },
     "metadata": {},
     "output_type": "display_data"
    }
   ],
   "source": [
    "import plotly.express as px\n",
    "\n",
    "d = cluster_summary[:]\n",
    "d['review_vol'] = d['review_vol']\n",
    "d['top_words'] = d['top_words'].apply(lambda x: ' '.join(x[:5]))\n",
    "fig = px.scatter(d, x='x', y='y', size='review_vol', color='cluster_n')\n",
    "fig.update_layout(hovermode=\"closest\")\n",
    "fig"
   ]
  },
  {
   "cell_type": "markdown",
   "metadata": {},
   "source": [
    "## 2. Node-Link On Clusters\n",
    "Nodes linked by closest cosine similarity \n",
    "### Features\n",
    "* Business ID\n",
    "* Review ID\n",
    "* Cluster Number\n",
    "* Source\n",
    "* Target\n",
    "* Value\n",
    "* Top Word"
   ]
  },
  {
   "cell_type": "code",
   "execution_count": 401,
   "metadata": {},
   "outputs": [
    {
     "name": "stderr",
     "output_type": "stream",
     "text": [
      "[nltk_data] Downloading package stopwords to\n",
      "[nltk_data]     /Users/matteowork/nltk_data...\n",
      "[nltk_data]   Package stopwords is already up-to-date!\n",
      "/Users/matteowork/opt/anaconda3/lib/python3.9/site-packages/sklearn/utils/deprecation.py:87: FutureWarning:\n",
      "\n",
      "Function get_feature_names is deprecated; get_feature_names is deprecated in 1.0 and will be removed in 1.2. Please use get_feature_names_out instead.\n",
      "\n",
      "[nltk_data] Downloading package stopwords to\n",
      "[nltk_data]     /Users/matteowork/nltk_data...\n",
      "[nltk_data]   Package stopwords is already up-to-date!\n",
      "/Users/matteowork/opt/anaconda3/lib/python3.9/site-packages/sklearn/utils/deprecation.py:87: FutureWarning:\n",
      "\n",
      "Function get_feature_names is deprecated; get_feature_names is deprecated in 1.0 and will be removed in 1.2. Please use get_feature_names_out instead.\n",
      "\n",
      "[nltk_data] Downloading package stopwords to\n",
      "[nltk_data]     /Users/matteowork/nltk_data...\n",
      "[nltk_data]   Package stopwords is already up-to-date!\n",
      "/Users/matteowork/opt/anaconda3/lib/python3.9/site-packages/sklearn/utils/deprecation.py:87: FutureWarning:\n",
      "\n",
      "Function get_feature_names is deprecated; get_feature_names is deprecated in 1.0 and will be removed in 1.2. Please use get_feature_names_out instead.\n",
      "\n",
      "[nltk_data] Downloading package stopwords to\n",
      "[nltk_data]     /Users/matteowork/nltk_data...\n",
      "[nltk_data]   Package stopwords is already up-to-date!\n",
      "/Users/matteowork/opt/anaconda3/lib/python3.9/site-packages/sklearn/utils/deprecation.py:87: FutureWarning:\n",
      "\n",
      "Function get_feature_names is deprecated; get_feature_names is deprecated in 1.0 and will be removed in 1.2. Please use get_feature_names_out instead.\n",
      "\n",
      "[nltk_data] Downloading package stopwords to\n",
      "[nltk_data]     /Users/matteowork/nltk_data...\n",
      "[nltk_data]   Package stopwords is already up-to-date!\n",
      "/Users/matteowork/opt/anaconda3/lib/python3.9/site-packages/sklearn/utils/deprecation.py:87: FutureWarning:\n",
      "\n",
      "Function get_feature_names is deprecated; get_feature_names is deprecated in 1.0 and will be removed in 1.2. Please use get_feature_names_out instead.\n",
      "\n",
      "[nltk_data] Downloading package stopwords to\n",
      "[nltk_data]     /Users/matteowork/nltk_data...\n",
      "[nltk_data]   Package stopwords is already up-to-date!\n",
      "/Users/matteowork/opt/anaconda3/lib/python3.9/site-packages/sklearn/utils/deprecation.py:87: FutureWarning:\n",
      "\n",
      "Function get_feature_names is deprecated; get_feature_names is deprecated in 1.0 and will be removed in 1.2. Please use get_feature_names_out instead.\n",
      "\n",
      "[nltk_data] Downloading package stopwords to\n",
      "[nltk_data]     /Users/matteowork/nltk_data...\n",
      "[nltk_data]   Package stopwords is already up-to-date!\n",
      "/Users/matteowork/opt/anaconda3/lib/python3.9/site-packages/sklearn/utils/deprecation.py:87: FutureWarning:\n",
      "\n",
      "Function get_feature_names is deprecated; get_feature_names is deprecated in 1.0 and will be removed in 1.2. Please use get_feature_names_out instead.\n",
      "\n",
      "[nltk_data] Downloading package stopwords to\n",
      "[nltk_data]     /Users/matteowork/nltk_data...\n",
      "[nltk_data]   Package stopwords is already up-to-date!\n",
      "/Users/matteowork/opt/anaconda3/lib/python3.9/site-packages/sklearn/utils/deprecation.py:87: FutureWarning:\n",
      "\n",
      "Function get_feature_names is deprecated; get_feature_names is deprecated in 1.0 and will be removed in 1.2. Please use get_feature_names_out instead.\n",
      "\n",
      "[nltk_data] Downloading package stopwords to\n",
      "[nltk_data]     /Users/matteowork/nltk_data...\n",
      "[nltk_data]   Package stopwords is already up-to-date!\n",
      "/Users/matteowork/opt/anaconda3/lib/python3.9/site-packages/sklearn/utils/deprecation.py:87: FutureWarning:\n",
      "\n",
      "Function get_feature_names is deprecated; get_feature_names is deprecated in 1.0 and will be removed in 1.2. Please use get_feature_names_out instead.\n",
      "\n",
      "[nltk_data] Downloading package stopwords to\n",
      "[nltk_data]     /Users/matteowork/nltk_data...\n",
      "[nltk_data]   Package stopwords is already up-to-date!\n",
      "/Users/matteowork/opt/anaconda3/lib/python3.9/site-packages/sklearn/utils/deprecation.py:87: FutureWarning:\n",
      "\n",
      "Function get_feature_names is deprecated; get_feature_names is deprecated in 1.0 and will be removed in 1.2. Please use get_feature_names_out instead.\n",
      "\n"
     ]
    }
   ],
   "source": [
    "node_link_data = []\n",
    "\n",
    "for i in range(10):\n",
    "    business_x = business_series[i]\n",
    "    reviews_x = reviews[reviews[\"business_id\"] == business_x].reset_index(drop=True)\n",
    "\n",
    "    data_without_stopwords = remove_stopwords(reviews_x)\n",
    "\n",
    "    vectorizer = TfidfVectorizer()\n",
    "    vectors = vectorizer.fit_transform(data_without_stopwords)\n",
    "\n",
    "    # Instantiate clustering algo and fit it to the vectors\n",
    "    km = KMeans(n_clusters=10, init='random',\n",
    "                max_iter=100, n_init=1, verbose=0)\n",
    "    km.fit(vectors)\n",
    "\n",
    "    tfidf_matrix = matrix_from_vec(vectors)\n",
    "\n",
    "    targets, values = find_targets(tfidf_matrix)\n",
    "\n",
    "    out = pd.DataFrame().assign(\n",
    "        business_id=np.repeat(business_x, tfidf_matrix.shape[1]),\n",
    "        review_id=reviews_x['review_id'],\n",
    "        cluster_n=km.labels_,\n",
    "        source=np.arange(tfidf_matrix.shape[1]),\n",
    "        target=targets,\n",
    "        value=values,\n",
    "        top_word=tfidf_matrix.apply(lambda x: ' '.join(x.sort_values().iloc[0:3].index), axis=0).to_list()\n",
    "    )\n",
    "    \n",
    "    node_link_data.append(out)\n",
    "\n",
    "node_link_data = pd.concat(node_link_data)"
   ]
  },
  {
   "cell_type": "code",
   "execution_count": 402,
   "metadata": {},
   "outputs": [
    {
     "data": {
      "text/html": [
       "<div>\n",
       "<style scoped>\n",
       "    .dataframe tbody tr th:only-of-type {\n",
       "        vertical-align: middle;\n",
       "    }\n",
       "\n",
       "    .dataframe tbody tr th {\n",
       "        vertical-align: top;\n",
       "    }\n",
       "\n",
       "    .dataframe thead th {\n",
       "        text-align: right;\n",
       "    }\n",
       "</style>\n",
       "<table border=\"1\" class=\"dataframe\">\n",
       "  <thead>\n",
       "    <tr style=\"text-align: right;\">\n",
       "      <th></th>\n",
       "      <th>business_id</th>\n",
       "      <th>review_id</th>\n",
       "      <th>cluster_n</th>\n",
       "      <th>source</th>\n",
       "      <th>target</th>\n",
       "      <th>value</th>\n",
       "      <th>top_word</th>\n",
       "    </tr>\n",
       "  </thead>\n",
       "  <tbody>\n",
       "    <tr>\n",
       "      <th>0</th>\n",
       "      <td>EQ-TZ2eeD_E0BHuvoaeG5Q</td>\n",
       "      <td>l3Wk_mvAog6XANIuGQ9C7Q</td>\n",
       "      <td>1</td>\n",
       "      <td>0</td>\n",
       "      <td>1230</td>\n",
       "      <td>0.160280</td>\n",
       "      <td>food frosted asset</td>\n",
       "    </tr>\n",
       "    <tr>\n",
       "      <th>1</th>\n",
       "      <td>EQ-TZ2eeD_E0BHuvoaeG5Q</td>\n",
       "      <td>940tqxFO4Pwg_KMg4Y4Z5g</td>\n",
       "      <td>3</td>\n",
       "      <td>1</td>\n",
       "      <td>893</td>\n",
       "      <td>0.244556</td>\n",
       "      <td>ring frosted asset</td>\n",
       "    </tr>\n",
       "    <tr>\n",
       "      <th>2</th>\n",
       "      <td>EQ-TZ2eeD_E0BHuvoaeG5Q</td>\n",
       "      <td>S-H-Ao17MEYH9cLpvevbnQ</td>\n",
       "      <td>0</td>\n",
       "      <td>2</td>\n",
       "      <td>1336</td>\n",
       "      <td>0.229324</td>\n",
       "      <td>food frosted asset</td>\n",
       "    </tr>\n",
       "    <tr>\n",
       "      <th>3</th>\n",
       "      <td>EQ-TZ2eeD_E0BHuvoaeG5Q</td>\n",
       "      <td>qNwMUWWtHiTrno15lcX_vw</td>\n",
       "      <td>3</td>\n",
       "      <td>3</td>\n",
       "      <td>1087</td>\n",
       "      <td>0.232635</td>\n",
       "      <td>ring frosted asset</td>\n",
       "    </tr>\n",
       "    <tr>\n",
       "      <th>4</th>\n",
       "      <td>EQ-TZ2eeD_E0BHuvoaeG5Q</td>\n",
       "      <td>3jnhCyBDfJ8cWewtlUZaFg</td>\n",
       "      <td>1</td>\n",
       "      <td>4</td>\n",
       "      <td>534</td>\n",
       "      <td>0.190492</td>\n",
       "      <td>food frosted asset</td>\n",
       "    </tr>\n",
       "    <tr>\n",
       "      <th>...</th>\n",
       "      <td>...</td>\n",
       "      <td>...</td>\n",
       "      <td>...</td>\n",
       "      <td>...</td>\n",
       "      <td>...</td>\n",
       "      <td>...</td>\n",
       "      <td>...</td>\n",
       "    </tr>\n",
       "    <tr>\n",
       "      <th>2003</th>\n",
       "      <td>Zi-F-YvyVOK0k5QD7lrLOg</td>\n",
       "      <td>Du5_62mUlRrdpWuYZnlZQw</td>\n",
       "      <td>3</td>\n",
       "      <td>2003</td>\n",
       "      <td>1391</td>\n",
       "      <td>0.308653</td>\n",
       "      <td>www regain cashed</td>\n",
       "    </tr>\n",
       "    <tr>\n",
       "      <th>2004</th>\n",
       "      <td>Zi-F-YvyVOK0k5QD7lrLOg</td>\n",
       "      <td>sCw_OD-BQBLg_bFLMwgipQ</td>\n",
       "      <td>1</td>\n",
       "      <td>2004</td>\n",
       "      <td>213</td>\n",
       "      <td>0.253117</td>\n",
       "      <td>www regain cashed</td>\n",
       "    </tr>\n",
       "    <tr>\n",
       "      <th>2005</th>\n",
       "      <td>Zi-F-YvyVOK0k5QD7lrLOg</td>\n",
       "      <td>QLM02QpOrrEH-2ekFxQl4Q</td>\n",
       "      <td>2</td>\n",
       "      <td>2005</td>\n",
       "      <td>990</td>\n",
       "      <td>0.194374</td>\n",
       "      <td>food regain cashed</td>\n",
       "    </tr>\n",
       "    <tr>\n",
       "      <th>2006</th>\n",
       "      <td>Zi-F-YvyVOK0k5QD7lrLOg</td>\n",
       "      <td>gBgAGQ2qkIytTDmAUF1mRg</td>\n",
       "      <td>4</td>\n",
       "      <td>2006</td>\n",
       "      <td>156</td>\n",
       "      <td>0.208138</td>\n",
       "      <td>food regain cashed</td>\n",
       "    </tr>\n",
       "    <tr>\n",
       "      <th>2007</th>\n",
       "      <td>Zi-F-YvyVOK0k5QD7lrLOg</td>\n",
       "      <td>VWSQR2GpHiH9N2WyVcI-4w</td>\n",
       "      <td>9</td>\n",
       "      <td>2007</td>\n",
       "      <td>1250</td>\n",
       "      <td>0.133592</td>\n",
       "      <td>www merry riding</td>\n",
       "    </tr>\n",
       "  </tbody>\n",
       "</table>\n",
       "<p>14465 rows × 7 columns</p>\n",
       "</div>"
      ],
      "text/plain": [
       "                 business_id               review_id  cluster_n  source  \\\n",
       "0     EQ-TZ2eeD_E0BHuvoaeG5Q  l3Wk_mvAog6XANIuGQ9C7Q          1       0   \n",
       "1     EQ-TZ2eeD_E0BHuvoaeG5Q  940tqxFO4Pwg_KMg4Y4Z5g          3       1   \n",
       "2     EQ-TZ2eeD_E0BHuvoaeG5Q  S-H-Ao17MEYH9cLpvevbnQ          0       2   \n",
       "3     EQ-TZ2eeD_E0BHuvoaeG5Q  qNwMUWWtHiTrno15lcX_vw          3       3   \n",
       "4     EQ-TZ2eeD_E0BHuvoaeG5Q  3jnhCyBDfJ8cWewtlUZaFg          1       4   \n",
       "...                      ...                     ...        ...     ...   \n",
       "2003  Zi-F-YvyVOK0k5QD7lrLOg  Du5_62mUlRrdpWuYZnlZQw          3    2003   \n",
       "2004  Zi-F-YvyVOK0k5QD7lrLOg  sCw_OD-BQBLg_bFLMwgipQ          1    2004   \n",
       "2005  Zi-F-YvyVOK0k5QD7lrLOg  QLM02QpOrrEH-2ekFxQl4Q          2    2005   \n",
       "2006  Zi-F-YvyVOK0k5QD7lrLOg  gBgAGQ2qkIytTDmAUF1mRg          4    2006   \n",
       "2007  Zi-F-YvyVOK0k5QD7lrLOg  VWSQR2GpHiH9N2WyVcI-4w          9    2007   \n",
       "\n",
       "      target     value            top_word  \n",
       "0       1230  0.160280  food frosted asset  \n",
       "1        893  0.244556  ring frosted asset  \n",
       "2       1336  0.229324  food frosted asset  \n",
       "3       1087  0.232635  ring frosted asset  \n",
       "4        534  0.190492  food frosted asset  \n",
       "...      ...       ...                 ...  \n",
       "2003    1391  0.308653   www regain cashed  \n",
       "2004     213  0.253117   www regain cashed  \n",
       "2005     990  0.194374  food regain cashed  \n",
       "2006     156  0.208138  food regain cashed  \n",
       "2007    1250  0.133592    www merry riding  \n",
       "\n",
       "[14465 rows x 7 columns]"
      ]
     },
     "execution_count": 402,
     "metadata": {},
     "output_type": "execute_result"
    }
   ],
   "source": [
    "node_link_data.to_csv('node-link-data.csv', index=False)\n",
    "node_link_data"
   ]
  },
  {
   "cell_type": "code",
   "execution_count": 403,
   "metadata": {},
   "outputs": [
    {
     "data": {
      "text/plain": [
       "0    EQ-TZ2eeD_E0BHuvoaeG5Q\n",
       "1    nRKndeZLQ3eDL10UMwS2rQ\n",
       "2    S2Ho8yLxhKAa26pBAm6rxA\n",
       "3    ltBBYdNzkeKdCNPDAsxwAA\n",
       "4    Zx7n8mdt8OzLRXVzolXNhQ\n",
       "5    j8JOZvfeHEfUWq3gEz6ABQ\n",
       "6    I6L0Zxi5Ww0zEWSAVgngeQ\n",
       "7    EtKSTHV5Qx_Q7Aur9o4kQQ\n",
       "8    oQ5CPRt0R3AzFvcjNOqB1w\n",
       "9    Zi-F-YvyVOK0k5QD7lrLOg\n",
       "dtype: object"
      ]
     },
     "execution_count": 403,
     "metadata": {},
     "output_type": "execute_result"
    }
   ],
   "source": [
    "business_series[0:10]"
   ]
  },
  {
   "cell_type": "code",
   "execution_count": null,
   "metadata": {},
   "outputs": [],
   "source": []
  }
 ],
 "metadata": {
  "kernelspec": {
   "display_name": "Python 3.9.13 ('base')",
   "language": "python",
   "name": "python3"
  },
  "language_info": {
   "codemirror_mode": {
    "name": "ipython",
    "version": 3
   },
   "file_extension": ".py",
   "mimetype": "text/x-python",
   "name": "python",
   "nbconvert_exporter": "python",
   "pygments_lexer": "ipython3",
   "version": "3.9.13"
  },
  "orig_nbformat": 4,
  "vscode": {
   "interpreter": {
    "hash": "21894104a545521ba64e645daef1b055b63bc596509fda168533c10a3ad2cc6e"
   }
  }
 },
 "nbformat": 4,
 "nbformat_minor": 2
}
